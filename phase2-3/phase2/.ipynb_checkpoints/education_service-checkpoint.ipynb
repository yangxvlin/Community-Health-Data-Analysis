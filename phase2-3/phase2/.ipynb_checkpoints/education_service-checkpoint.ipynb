{
 "cells": [
  {
   "cell_type": "markdown",
   "metadata": {
    "toc": true
   },
   "source": [
    "<h1>Table of Contents<span class=\"tocSkip\"></span></h1>\n",
    "<div class=\"toc\"><ul class=\"toc-item\"><li><span><a href=\"#library-used\" data-toc-modified-id=\"library-used-1\"><span class=\"toc-item-num\">1&nbsp;&nbsp;</span>library used</a></span></li><li><span><a href=\"#read-data\" data-toc-modified-id=\"read-data-2\"><span class=\"toc-item-num\">2&nbsp;&nbsp;</span>read data</a></span></li><li><span><a href=\"#clean-income-table\" data-toc-modified-id=\"clean-income-table-3\"><span class=\"toc-item-num\">3&nbsp;&nbsp;</span>clean income table</a></span></li></ul></div>"
   ]
  },
  {
   "cell_type": "markdown",
   "metadata": {},
   "source": [
    "# library used"
   ]
  },
  {
   "cell_type": "code",
   "execution_count": 1,
   "metadata": {
    "ExecuteTime": {
     "end_time": "2018-04-19T03:21:56.921843Z",
     "start_time": "2018-04-19T03:21:52.609499Z"
    }
   },
   "outputs": [],
   "source": [
    "import zipfile\n",
    "\n",
    "import numpy as np\n",
    "import pandas as pd\n",
    "from pandas import DataFrame as df\n",
    "\n",
    "import re\n",
    "import matplotlib.pyplot as plt"
   ]
  },
  {
   "cell_type": "code",
   "execution_count": null,
   "metadata": {},
   "outputs": [],
   "source": []
  },
  {
   "cell_type": "markdown",
   "metadata": {},
   "source": [
    "# read data"
   ]
  },
  {
   "cell_type": "code",
   "execution_count": 26,
   "metadata": {
    "ExecuteTime": {
     "end_time": "2018-04-18T09:27:08.721574Z",
     "start_time": "2018-04-18T09:27:08.688402Z"
    }
   },
   "outputs": [],
   "source": [
    "# in area 2\n",
    "family_income_raw = pd.read_csv(\"SA2-G28_Total_Family_Income__Weekly__by_Family_Composition-Census_2016.csv\")\n",
    "\n",
    "child_born = pd.read_csv(\"SA2-G24_Number_of_Children_Ever_Born_by_Age_of_Parent-Census_2016.csv\")\n"
   ]
  },
  {
   "cell_type": "code",
   "execution_count": null,
   "metadata": {},
   "outputs": [],
   "source": []
  },
  {
   "cell_type": "markdown",
   "metadata": {},
   "source": [
    "# clean income table"
   ]
  },
  {
   "cell_type": "markdown",
   "metadata": {},
   "source": [
    "get data_stated family number"
   ]
  },
  {
   "cell_type": "code",
   "execution_count": 106,
   "metadata": {
    "ExecuteTime": {
     "end_time": "2018-04-18T10:23:58.351084Z",
     "start_time": "2018-04-18T10:23:58.346071Z"
    }
   },
   "outputs": [],
   "source": [
    "family_income_raw[\"data_stated_family_number\"] = family_income_raw[' tot_tot'] - family_income_raw[' all_incomes_ns_tot']\n",
    "family_income_raw[\"total_income\"] = 0\n",
    "family_income_raw[\"total_family\"] = 0"
   ]
  },
  {
   "cell_type": "markdown",
   "metadata": {
    "ExecuteTime": {
     "end_time": "2018-04-18T09:32:41.608643Z",
     "start_time": "2018-04-18T09:32:41.545475Z"
    }
   },
   "source": [
    "- average income\n",
    "- mean income\n",
    "- max family number income\n",
    "- min family number income\n",
    "- \n",
    "- no need to cal neg-income family as a '0' is multipled"
   ]
  },
  {
   "cell_type": "markdown",
   "metadata": {},
   "source": [
    "total income"
   ]
  },
  {
   "cell_type": "code",
   "execution_count": 117,
   "metadata": {
    "ExecuteTime": {
     "end_time": "2018-04-18T10:47:28.278054Z",
     "start_time": "2018-04-18T10:47:28.236977Z"
    }
   },
   "outputs": [
    {
     "name": "stdout",
     "output_type": "stream",
     "text": [
      " fi_1_149_tot 1 149\n",
      " fi_650_799_tot 650 799\n",
      " fi_300_399_tot 300 399\n",
      " fi_1500_1749_tot 1500 1749\n",
      " fi_1750_1999_tot 1750 1999\n",
      " fi_500_649_tot 500 649\n",
      " fi_2000_2499_tot 2000 2499\n",
      " fi_1000_1249_tot 1000 1249\n",
      " fi_400_499_tot 400 499\n",
      " fi_150_299_tot 150 299\n",
      " fi_2500_2999_tot 2500 2999\n",
      " fi_1250_1499_tot 1250 1499\n",
      " fi_3000_3499_tot 3000 3499\n",
      " fi_4000_more_tot 4000 more\n",
      " fi_800_999_tot 800 999\n",
      " fi_3500_3999_tot 3500 3999\n"
     ]
    }
   ],
   "source": [
    "reg = re.compile(\" fi_([\\d]+)_([\\da-z]+)_tot\")\n",
    "# | fi_([\\d]+)_more_tot\n",
    "# string = 'fi_800_999_tot'\n",
    "\n",
    "# print(re.match(reg, string).group(2))\n",
    "\n",
    "# minimum = \n",
    "l = []\n",
    "for string in family_income_raw.columns:\n",
    "    matched = re.match(reg, string)\n",
    "    if matched != None:\n",
    "        lower = int(matched.group(1))\n",
    "        upper = matched.group(2)\n",
    "        print(matched.group(0), lower, upper)\n",
    "        l.append(matched.group(0))\n",
    "#         print(family_income_raw.loc[:, string])\n",
    "        if upper.isdigit():\n",
    "            upper = int(upper)\n",
    "            family_income_raw[\"total_income\"] += family_income_raw[string]*((upper+lower)/2)\n",
    "        else:\n",
    "            family_income_raw[\"total_income\"] += family_income_raw[string]*(lower)\n",
    "        family_income_raw[\"total_family\"] += family_income_raw[string]\n",
    "family_income_raw[\"total_family\"] += family_income_raw[\" neg_nil_inc_tot\"]"
   ]
  },
  {
   "cell_type": "markdown",
   "metadata": {},
   "source": [
    "average"
   ]
  },
  {
   "cell_type": "code",
   "execution_count": 145,
   "metadata": {
    "ExecuteTime": {
     "end_time": "2018-04-18T11:03:15.330334Z",
     "start_time": "2018-04-18T11:03:15.326323Z"
    }
   },
   "outputs": [],
   "source": [
    "family_income_raw[\"average_income\"] = family_income_raw[\"total_income\"] / family_income_raw[\"total_family\"]"
   ]
  },
  {
   "cell_type": "code",
   "execution_count": null,
   "metadata": {},
   "outputs": [],
   "source": []
  },
  {
   "cell_type": "code",
   "execution_count": 146,
   "metadata": {
    "ExecuteTime": {
     "end_time": "2018-04-18T11:03:16.888547Z",
     "start_time": "2018-04-18T11:03:16.756169Z"
    }
   },
   "outputs": [
    {
     "data": {
      "image/png": "[encoded data removed]",
      "text/plain": [
       "<matplotlib.figure.Figure at 0x149adb10>"
      ]
     },
     "metadata": {},
     "output_type": "display_data"
    }
   ],
   "source": [
    "plt.figure(figsize = [8, 8])\n",
    "plt.scatter(x=family_income_raw[\"average_income\"], y=child_born[\"average_child\"])\n",
    "# plt.plot(family_income_raw[\"average_income\"], child_born[\"average_child\"], c='black')\n",
    "plt.xlabel(\"average family income\")\n",
    "plt.ylabel(\"average family children\")\n",
    "plt.show()"
   ]
  },
  {
   "cell_type": "code",
   "execution_count": null,
   "metadata": {},
   "outputs": [],
   "source": []
  }
 ],
 "metadata": {
  "hide_input": false,
  "kernelspec": {
   "display_name": "Python 3",
   "language": "python",
   "name": "python3"
  },
  "language_info": {
   "codemirror_mode": {
    "name": "ipython",
    "version": 3
   },
   "file_extension": ".py",
   "mimetype": "text/x-python",
   "name": "python",
   "nbconvert_exporter": "python",
   "pygments_lexer": "ipython3",
   "version": "3.6.3"
  },
  "toc": {
   "nav_menu": {},
   "number_sections": true,
   "sideBar": true,
   "skip_h1_title": false,
   "title_cell": "Table of Contents",
   "title_sidebar": "Contents",
   "toc_cell": true,
   "toc_position": {},
   "toc_section_display": true,
   "toc_window_display": false
  }
 },
 "nbformat": 4,
 "nbformat_minor": 2
}
