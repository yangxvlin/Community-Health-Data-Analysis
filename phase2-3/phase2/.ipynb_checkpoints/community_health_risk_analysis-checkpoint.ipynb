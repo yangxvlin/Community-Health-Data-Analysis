{
 "cells": [
  {
   "cell_type": "markdown",
   "metadata": {
    "toc": true
   },
   "source": [
    "<h1>Table of Contents<span class=\"tocSkip\"></span></h1>\n",
    "<div class=\"toc\"><ul class=\"toc-item\"><li><span><a href=\"#library-used\" data-toc-modified-id=\"library-used-1\"><span class=\"toc-item-num\">1&nbsp;&nbsp;</span>library used</a></span></li><li><span><a href=\"#read-data-&amp;-preprocessing-data\" data-toc-modified-id=\"read-data-&amp;-preprocessing-data-2\"><span class=\"toc-item-num\">2&nbsp;&nbsp;</span>read data &amp; preprocessing data</a></span><ul class=\"toc-item\"><li><span><a href=\"#rename-columns-function\" data-toc-modified-id=\"rename-columns-function-2.1\"><span class=\"toc-item-num\">2.1&nbsp;&nbsp;</span>rename columns function</a></span></li><li><span><a href=\"#read-data\" data-toc-modified-id=\"read-data-2.2\"><span class=\"toc-item-num\">2.2&nbsp;&nbsp;</span>read data</a></span></li><li><span><a href=\"#rename-columns\" data-toc-modified-id=\"rename-columns-2.3\"><span class=\"toc-item-num\">2.3&nbsp;&nbsp;</span>rename columns</a></span></li><li><span><a href=\"#integration\" data-toc-modified-id=\"integration-2.4\"><span class=\"toc-item-num\">2.4&nbsp;&nbsp;</span>integration</a></span><ul class=\"toc-item\"><li><span><a href=\"#population-age-&amp;-gender-integration\" data-toc-modified-id=\"population-age-&amp;-gender-integration-2.4.1\"><span class=\"toc-item-num\">2.4.1&nbsp;&nbsp;</span>population age &amp; gender integration</a></span><ul class=\"toc-item\"><li><span><a href=\"#select-columns\" data-toc-modified-id=\"select-columns-2.4.1.1\"><span class=\"toc-item-num\">2.4.1.1&nbsp;&nbsp;</span>select columns</a></span></li><li><span><a href=\"#calculate-population\" data-toc-modified-id=\"calculate-population-2.4.1.2\"><span class=\"toc-item-num\">2.4.1.2&nbsp;&nbsp;</span>calculate population</a></span></li><li><span><a href=\"#nothing\" data-toc-modified-id=\"nothing-2.4.1.3\"><span class=\"toc-item-num\">2.4.1.3&nbsp;&nbsp;</span>nothing</a></span></li></ul></li><li><span><a href=\"#group-by-lga-type\" data-toc-modified-id=\"group-by-lga-type-2.4.2\"><span class=\"toc-item-num\">2.4.2&nbsp;&nbsp;</span>group by lga type</a></span><ul class=\"toc-item\"><li><span><a href=\"#transfer-to-lga-name-&amp;-type\" data-toc-modified-id=\"transfer-to-lga-name-&amp;-type-2.4.2.1\"><span class=\"toc-item-num\">2.4.2.1&nbsp;&nbsp;</span>transfer to lga name &amp; type</a></span></li><li><span><a href=\"#calculate-percentage-for-adualt-health-risk\" data-toc-modified-id=\"calculate-percentage-for-adualt-health-risk-2.4.2.2\"><span class=\"toc-item-num\">2.4.2.2&nbsp;&nbsp;</span>calculate percentage for adualt health risk</a></span></li></ul></li></ul></li></ul></li><li><span><a href=\"#lga-health-work-force-analysis\" data-toc-modified-id=\"lga-health-work-force-analysis-3\"><span class=\"toc-item-num\">3&nbsp;&nbsp;</span>lga health work force analysis</a></span><ul class=\"toc-item\"><li><span><a href=\"#select-doctor\" data-toc-modified-id=\"select-doctor-3.1\"><span class=\"toc-item-num\">3.1&nbsp;&nbsp;</span>select doctor</a></span></li></ul></li><li><span><a href=\"#percentage-calculate\" data-toc-modified-id=\"percentage-calculate-4\"><span class=\"toc-item-num\">4&nbsp;&nbsp;</span>percentage calculate</a></span><ul class=\"toc-item\"><li><span><a href=\"#disease-risk-per-person\" data-toc-modified-id=\"disease-risk-per-person-4.1\"><span class=\"toc-item-num\">4.1&nbsp;&nbsp;</span>disease risk per person</a></span></li><li><span><a href=\"#health-work-labor-per-person\" data-toc-modified-id=\"health-work-labor-per-person-4.2\"><span class=\"toc-item-num\">4.2&nbsp;&nbsp;</span>health work labor per person</a></span></li></ul></li><li><span><a href=\"#correlation\" data-toc-modified-id=\"correlation-5\"><span class=\"toc-item-num\">5&nbsp;&nbsp;</span>correlation</a></span><ul class=\"toc-item\"><li><span><a href=\"#disease-and-community-health-risk\" data-toc-modified-id=\"disease-and-community-health-risk-5.1\"><span class=\"toc-item-num\">5.1&nbsp;&nbsp;</span>disease and community health risk</a></span><ul class=\"toc-item\"><li><span><a href=\"#direct-correlation\" data-toc-modified-id=\"direct-correlation-5.1.1\"><span class=\"toc-item-num\">5.1.1&nbsp;&nbsp;</span>direct correlation</a></span><ul class=\"toc-item\"><li><span><a href=\"#disease-and-life-style\" data-toc-modified-id=\"disease-and-life-style-5.1.1.1\"><span class=\"toc-item-num\">5.1.1.1&nbsp;&nbsp;</span>disease and life style</a></span></li><li><span><a href=\"#life-style-and-behavior\" data-toc-modified-id=\"life-style-and-behavior-5.1.1.2\"><span class=\"toc-item-num\">5.1.1.2&nbsp;&nbsp;</span>life style and behavior</a></span></li></ul></li><li><span><a href=\"#group-by-geo\" data-toc-modified-id=\"group-by-geo-5.1.2\"><span class=\"toc-item-num\">5.1.2&nbsp;&nbsp;</span>group by geo</a></span></li></ul></li></ul></li></ul></div>"
   ]
  },
  {
   "cell_type": "markdown",
   "metadata": {},
   "source": [
    "# library used"
   ]
  },
  {
   "cell_type": "code",
   "execution_count": 1,
   "metadata": {
    "ExecuteTime": {
     "end_time": "2018-04-29T00:06:46.452375Z",
     "start_time": "2018-04-29T00:06:45.678341Z"
    }
   },
   "outputs": [],
   "source": [
    "import numpy as np\n",
    "import pandas as pd\n",
    "from pandas import DataFrame as df\n",
    "\n",
    "import re\n",
    "import matplotlib.pyplot as plt\n",
    "import json\n",
    "\n",
    "from collections import defaultdict\n",
    "import seaborn as sns"
   ]
  },
  {
   "cell_type": "markdown",
   "metadata": {},
   "source": [
    "# read data & preprocessing data"
   ]
  },
  {
   "cell_type": "markdown",
   "metadata": {},
   "source": [
    "## rename columns function"
   ]
  },
  {
   "cell_type": "code",
   "execution_count": 2,
   "metadata": {
    "ExecuteTime": {
     "end_time": "2018-04-29T00:06:46.463405Z",
     "start_time": "2018-04-29T00:06:46.454379Z"
    }
   },
   "outputs": [],
   "source": [
    "from pprint import pprint\n",
    "\n",
    "def get_title_from_json(file):\n",
    "    with open(file) as title_file:\n",
    "        title = json.load(title_file)[ 'selectedAttributes']\n",
    "        \n",
    "        res = {}\n",
    "        for dict_title in title:\n",
    "            res[dict_title['name']] = dict_title['title'].replace(\"- \", \"\").replace(\" \", \"_\")\n",
    "    return res"
   ]
  },
  {
   "cell_type": "code",
   "execution_count": 3,
   "metadata": {
    "ExecuteTime": {
     "end_time": "2018-04-29T00:06:46.570690Z",
     "start_time": "2018-04-29T00:06:46.465410Z"
    }
   },
   "outputs": [],
   "source": [
    "def rename_columns(file, table, strip=[' ']):\n",
    "    title = get_title_from_json(file)\n",
    "    # remove space in columns\n",
    "    for item in strip[0]:\n",
    "        renamed = table.rename(columns=lambda x: x.replace(item, ''))\n",
    "    # reneme columns\n",
    "    renamed = renamed.rename(columns=title)\n",
    "    if len(strip) > 1:\n",
    "        for item in strip[1]:\n",
    "            renamed = table.rename(columns=lambda x: x.replace(item, ''))\n",
    "    return renamed"
   ]
  },
  {
   "cell_type": "markdown",
   "metadata": {},
   "source": [
    "## read data"
   ]
  },
  {
   "cell_type": "code",
   "execution_count": 4,
   "metadata": {
    "ExecuteTime": {
     "end_time": "2018-04-29T00:06:46.667947Z",
     "start_time": "2018-04-29T00:06:46.572693Z"
    }
   },
   "outputs": [],
   "source": [
    "disease = pd.read_csv(\"LGA11_Chronic_Disease_-_Modelled_Estimate.csv\")"
   ]
  },
  {
   "cell_type": "code",
   "execution_count": 5,
   "metadata": {
    "ExecuteTime": {
     "end_time": "2018-04-29T00:06:46.770219Z",
     "start_time": "2018-04-29T00:06:46.668951Z"
    }
   },
   "outputs": [],
   "source": [
    "# gender_profile = pd.read_csv(\"LGA11-based_B01_Selected_Person_Characteristics_by_Sex_as_at_2011-08-11.csv\")"
   ]
  },
  {
   "cell_type": "code",
   "execution_count": 6,
   "metadata": {
    "ExecuteTime": {
     "end_time": "2018-04-29T00:06:46.937664Z",
     "start_time": "2018-04-29T00:06:46.772226Z"
    }
   },
   "outputs": [],
   "source": [
    "lga_profile = pd.read_csv(\"Local_Government_Area__LGA__profiles_data_2011.csv\")"
   ]
  },
  {
   "cell_type": "code",
   "execution_count": 7,
   "metadata": {
    "ExecuteTime": {
     "end_time": "2018-04-29T00:06:47.054676Z",
     "start_time": "2018-04-29T00:06:46.939670Z"
    }
   },
   "outputs": [],
   "source": [
    "health_workforce = pd.read_csv(\"LGA15_Health_Workforce_-_Medical__Nursing__Dental_Professionals_-_2011.csv\")"
   ]
  },
  {
   "cell_type": "code",
   "execution_count": 8,
   "metadata": {
    "ExecuteTime": {
     "end_time": "2018-04-29T00:06:47.153972Z",
     "start_time": "2018-04-29T00:06:47.055679Z"
    }
   },
   "outputs": [],
   "source": [
    "adualt_health_risk = pd.read_csv(\"LGA11_Health_Risk_Factors_-_Modelled_Estimate.csv\")"
   ]
  },
  {
   "cell_type": "markdown",
   "metadata": {},
   "source": [
    "## rename columns"
   ]
  },
  {
   "cell_type": "code",
   "execution_count": 9,
   "metadata": {
    "ExecuteTime": {
     "end_time": "2018-04-29T00:06:47.271635Z",
     "start_time": "2018-04-29T00:06:47.155947Z"
    }
   },
   "outputs": [],
   "source": [
    "disease = rename_columns(\"LGA11_Chronic_Disease_-_Modelled_Estimate.json\", disease)"
   ]
  },
  {
   "cell_type": "code",
   "execution_count": null,
   "metadata": {
    "ExecuteTime": {
     "start_time": "2018-04-29T00:06:45.706Z"
    }
   },
   "outputs": [
    {
     "ename": "NameError",
     "evalue": "name 'gender_profile' is not defined",
     "output_type": "error",
     "traceback": [
      "\u001b[1;31m---------------------------------------------------------------------------\u001b[0m",
      "\u001b[1;31mNameError\u001b[0m                                 Traceback (most recent call last)",
      "\u001b[1;32m<ipython-input-10-bce0fff8c863>\u001b[0m in \u001b[0;36m<module>\u001b[1;34m()\u001b[0m\n\u001b[1;32m----> 1\u001b[1;33m \u001b[0mgender_profile\u001b[0m \u001b[1;33m=\u001b[0m \u001b[0mrename_columns\u001b[0m\u001b[1;33m(\u001b[0m\u001b[1;34m\"LGA11-based_B01_Selected_Person_Characteristics_by_Sex_as_at_2011-08-11.json\"\u001b[0m\u001b[1;33m,\u001b[0m \u001b[0mgender_profile\u001b[0m\u001b[1;33m)\u001b[0m\u001b[1;33m\u001b[0m\u001b[0m\n\u001b[0m",
      "\u001b[1;31mNameError\u001b[0m: name 'gender_profile' is not defined"
     ]
    }
   ],
   "source": [
    "# gender_profile = rename_columns(\"LGA11-based_B01_Selected_Person_Characteristics_by_Sex_as_at_2011-08-11.json\", gender_profile)"
   ]
  },
  {
   "cell_type": "code",
   "execution_count": null,
   "metadata": {
    "ExecuteTime": {
     "start_time": "2018-04-29T00:06:45.709Z"
    }
   },
   "outputs": [],
   "source": [
    "lga_profile = rename_columns(\"Local_Government_Area__LGA__profiles_data_2011.json\", lga_profile)"
   ]
  },
  {
   "cell_type": "code",
   "execution_count": null,
   "metadata": {
    "ExecuteTime": {
     "start_time": "2018-04-29T00:06:45.711Z"
    }
   },
   "outputs": [],
   "source": [
    "health_workforce = rename_columns(\"LGA15_Health_Workforce_-_Medical__Nursing__Dental_Professionals_-_2011.json\", health_workforce)"
   ]
  },
  {
   "cell_type": "code",
   "execution_count": null,
   "metadata": {
    "ExecuteTime": {
     "start_time": "2018-04-29T00:06:45.715Z"
    }
   },
   "outputs": [],
   "source": [
    "adualt_health_risk = rename_columns(\"LGA11_Health_Risk_Factors_-_Modelled_Estimate.json\", adualt_health_risk)"
   ]
  },
  {
   "cell_type": "markdown",
   "metadata": {},
   "source": [
    "## integration"
   ]
  },
  {
   "cell_type": "markdown",
   "metadata": {},
   "source": [
    "### population age & gender integration"
   ]
  },
  {
   "cell_type": "markdown",
   "metadata": {},
   "source": [
    "#### select columns"
   ]
  },
  {
   "cell_type": "code",
   "execution_count": null,
   "metadata": {
    "ExecuteTime": {
     "start_time": "2018-04-29T00:06:45.718Z"
    }
   },
   "outputs": [],
   "source": [
    "reg1 = re.compile(\"Age_groups_([\\d]*)_([\\d]*)_years_(Males|Females)\")\n",
    "reg2 = re.compile(\"Age_groups_([\\d]*)_years_and_over_(Males|Females)\")\n",
    "\n",
    "selected = []\n",
    "for string in gender_profile.columns:\n",
    "    matched = re.match(reg1, string)\n",
    "    if matched != None:\n",
    "        selected.append((string, matched.group(3), matched.group(2), matched.group(1)))\n",
    "    else:\n",
    "        matched = re.match(reg2, string)\n",
    "        if matched != None:\n",
    "            selected.append((string, matched.group(2), matched.group(1), None))"
   ]
  },
  {
   "cell_type": "markdown",
   "metadata": {},
   "source": [
    "#### calculate population"
   ]
  },
  {
   "cell_type": "code",
   "execution_count": null,
   "metadata": {
    "ExecuteTime": {
     "start_time": "2018-04-29T00:06:45.721Z"
    }
   },
   "outputs": [],
   "source": [
    "gender_profile[\"total_male\"] = 0\n",
    "gender_profile[\"total_female\"] = 0\n",
    "\n",
    "for i in selected:\n",
    "    if i[1] == \"Males\":\n",
    "        gender_profile[\"total_male\"] += gender_profile[i[0]]\n",
    "    elif i[1] == \"Females\":\n",
    "        gender_profile[\"total_female\"] += gender_profile[i[0]]\n",
    "gender_profile[\"total_people\"] = gender_profile[\"total_male\"] + gender_profile[\"total_female\"]\n",
    "gender_profile[\"percentage_male\"] = gender_profile[\"total_male\"] / gender_profile[\"total_people\"]\n",
    "gender_profile[\"percentage_female\"] = gender_profile[\"total_female\"] / gender_profile[\"total_people\"]\n",
    "\n",
    "gender_profile[\"male_female_ratio\"] = gender_profile[\"total_male\"] / gender_profile[\"total_female\"]\n",
    "\n",
    "gender_profile.loc[:, [\"total_female\", \"total_male\", \"total_people\", \"percentage_male\", \"percentage_female\", \"male_female_ratio\"]]\n",
    "\n",
    "gender_profile['Remoteness_area'] = lga_profile['Remoteness_area']"
   ]
  },
  {
   "cell_type": "markdown",
   "metadata": {},
   "source": [
    "#### nothing"
   ]
  },
  {
   "cell_type": "code",
   "execution_count": null,
   "metadata": {
    "ExecuteTime": {
     "start_time": "2018-04-29T00:06:45.723Z"
    }
   },
   "outputs": [],
   "source": [
    "gender_profile['Remoteness_area'].value_counts()"
   ]
  },
  {
   "cell_type": "code",
   "execution_count": null,
   "metadata": {
    "ExecuteTime": {
     "start_time": "2018-04-29T00:06:45.726Z"
    },
    "scrolled": false
   },
   "outputs": [],
   "source": [
    "plt.figure()\n",
    "for i, group in gender_profile.groupby(\"Remoteness_area\"):\n",
    "    print(i)\n",
    "    group.plot.scatter(x=\"percentage_male\", y=\"percentage_female\")\n",
    "# plt.legend([\"\"])\n",
    "plt.show()"
   ]
  },
  {
   "cell_type": "code",
   "execution_count": null,
   "metadata": {},
   "outputs": [],
   "source": []
  },
  {
   "cell_type": "code",
   "execution_count": null,
   "metadata": {
    "ExecuteTime": {
     "start_time": "2018-04-29T00:06:45.731Z"
    }
   },
   "outputs": [],
   "source": [
    "sorted(list(gender_profile.columns))"
   ]
  },
  {
   "cell_type": "markdown",
   "metadata": {},
   "source": [
    "### group by lga type"
   ]
  },
  {
   "cell_type": "markdown",
   "metadata": {},
   "source": [
    "#### transfer to lga name & type"
   ]
  },
  {
   "cell_type": "code",
   "execution_count": null,
   "metadata": {
    "ExecuteTime": {
     "start_time": "2018-04-29T00:06:45.735Z"
    }
   },
   "outputs": [],
   "source": [
    "local_governement = df()\n",
    "local_governement[\"Local_Government_Area_Name\"] =health_workforce[\"Local_Government_Area_Name\"]\n",
    "local_governement[\"name\"] = \"\"\n",
    "local_governement[\"type\"] = \"\"\n",
    "local_governement[\"Local_Government_Area_Code\"] = health_workforce[\"Local_Government_Area_Code\"]\n",
    "\n",
    "reg = re.compile(\"([A-Za-z\\s-]*)[\\s]*(\\([A-Z]*\\))\")\n",
    "lga_group = defaultdict(int)\n",
    "\n",
    "for index, lga in enumerate(local_governement[\"Local_Government_Area_Name\"]):\n",
    "    matched = re.match(reg, lga)\n",
    "    if matched != None:\n",
    "        lga_group[matched.group(2)] += 1\n",
    "        local_governement.loc[index, \"name\"] = matched.group(1)\n",
    "        local_governement.loc[index, \"type\"] = matched.group(2)"
   ]
  },
  {
   "cell_type": "code",
   "execution_count": null,
   "metadata": {
    "ExecuteTime": {
     "start_time": "2018-04-29T00:06:45.737Z"
    },
    "scrolled": true
   },
   "outputs": [],
   "source": [
    "lga_group"
   ]
  },
  {
   "cell_type": "markdown",
   "metadata": {},
   "source": [
    "#### calculate percentage for adualt health risk"
   ]
  },
  {
   "cell_type": "code",
   "execution_count": null,
   "metadata": {
    "ExecuteTime": {
     "start_time": "2018-04-29T00:06:45.741Z"
    }
   },
   "outputs": [],
   "source": [
    "reg = re.compile(\"([a-zA-Z\\_\\d]+)\\_Count\")\n",
    "\n",
    "selected = []\n",
    "\n",
    "population = gender_profile[\"total_people\"].iloc[0:-1]\n",
    "for i in adualt_health_risk.columns:\n",
    "    matched = re.match(reg, i)\n",
    "    if matched != None:\n",
    "        selected.append((matched.group(1), i))"
   ]
  },
  {
   "cell_type": "code",
   "execution_count": null,
   "metadata": {
    "ExecuteTime": {
     "start_time": "2018-04-29T00:06:45.742Z"
    }
   },
   "outputs": [],
   "source": [
    "health_risk_percentage = df()\n",
    "\n",
    "for name, col in selected:\n",
    "    health_risk_percentage[name+\"_percentage\"] = adualt_health_risk[col] / population"
   ]
  },
  {
   "cell_type": "code",
   "execution_count": null,
   "metadata": {
    "ExecuteTime": {
     "start_time": "2018-04-29T00:06:45.744Z"
    }
   },
   "outputs": [],
   "source": [
    "health_risk_percentage['Local_Government_Area_Code'] = adualt_health_risk['Local_Government_Area_Code']"
   ]
  },
  {
   "cell_type": "markdown",
   "metadata": {},
   "source": [
    "# lga health work force analysis"
   ]
  },
  {
   "cell_type": "code",
   "execution_count": null,
   "metadata": {
    "ExecuteTime": {
     "start_time": "2018-04-29T00:06:45.748Z"
    },
    "scrolled": true
   },
   "outputs": [],
   "source": [
    "sorted(list(health_workforce.columns))"
   ]
  },
  {
   "cell_type": "markdown",
   "metadata": {},
   "source": [
    "## select doctor"
   ]
  },
  {
   "cell_type": "code",
   "execution_count": null,
   "metadata": {
    "ExecuteTime": {
     "start_time": "2018-04-29T00:06:45.750Z"
    }
   },
   "outputs": [],
   "source": [
    "reg = re.compile(\"([a-zA-Z\\_]*)_\\?_count\")\n",
    "selected = []\n",
    "\n",
    "for index, col in enumerate(health_workforce.columns):\n",
    "    print(index, col)\n",
    "    matched = re.match(reg, col)\n",
    "    if matched != None:\n",
    "        selected.append((matched.group(1), col))"
   ]
  },
  {
   "cell_type": "code",
   "execution_count": null,
   "metadata": {
    "ExecuteTime": {
     "start_time": "2018-04-29T00:06:45.754Z"
    }
   },
   "outputs": [],
   "source": [
    "sorted(selected)\n",
    "# considered:['Enrolled_Nurses', 'General_Medical_Practitioners', 'Specialist_Practitioners'] ]\n",
    "# not considered:['Dentists', 'Registered_Nurses_who_are_also_Midwives', 'Registered_Nurses_only']"
   ]
  },
  {
   "cell_type": "code",
   "execution_count": null,
   "metadata": {
    "ExecuteTime": {
     "start_time": "2018-04-29T00:06:45.756Z"
    }
   },
   "outputs": [],
   "source": [
    "health_laber_investigated = health_workforce.loc[:, ['Local_Government_Area_Code',\n",
    "'Local_Government_Area_Name', 'Enrolled_Nurses_?_count', 'General_Medical_Practitioners_?_count',\n",
    "'Specialist_Practitioners_?_count']]"
   ]
  },
  {
   "cell_type": "code",
   "execution_count": null,
   "metadata": {
    "ExecuteTime": {
     "start_time": "2018-04-29T00:06:45.758Z"
    }
   },
   "outputs": [],
   "source": [
    "health_laber_investigated"
   ]
  },
  {
   "cell_type": "code",
   "execution_count": null,
   "metadata": {},
   "outputs": [],
   "source": []
  },
  {
   "cell_type": "markdown",
   "metadata": {},
   "source": [
    "# percentage calculate"
   ]
  },
  {
   "cell_type": "markdown",
   "metadata": {},
   "source": [
    "## disease risk per person"
   ]
  },
  {
   "cell_type": "markdown",
   "metadata": {},
   "source": [
    "disease population / total person"
   ]
  },
  {
   "cell_type": "code",
   "execution_count": null,
   "metadata": {
    "ExecuteTime": {
     "start_time": "2018-04-29T00:06:45.763Z"
    }
   },
   "outputs": [],
   "source": [
    "# disease\n",
    "# gender_profile"
   ]
  },
  {
   "cell_type": "code",
   "execution_count": null,
   "metadata": {
    "ExecuteTime": {
     "start_time": "2018-04-29T00:06:45.766Z"
    }
   },
   "outputs": [],
   "source": [
    "sorted(list(disease.columns))"
   ]
  },
  {
   "cell_type": "code",
   "execution_count": null,
   "metadata": {
    "ExecuteTime": {
     "start_time": "2018-04-29T00:06:45.769Z"
    }
   },
   "outputs": [],
   "source": [
    "reg = re.compile(\"([a-zA-Z\\_]+)_Rate_per_100\")\n",
    "selected = []\n",
    "\n",
    "for index, col in enumerate(disease.columns):\n",
    "#     print(index, col)\n",
    "    matched = re.match(reg, col)\n",
    "    if matched != None:\n",
    "        selected.append((matched.group(1), col))"
   ]
  },
  {
   "cell_type": "code",
   "execution_count": null,
   "metadata": {
    "ExecuteTime": {
     "start_time": "2018-04-29T00:06:45.771Z"
    }
   },
   "outputs": [],
   "source": [
    "# selected"
   ]
  },
  {
   "cell_type": "code",
   "execution_count": null,
   "metadata": {
    "ExecuteTime": {
     "start_time": "2018-04-29T00:06:45.774Z"
    }
   },
   "outputs": [],
   "source": [
    "disease_risk = df()\n",
    "disease_risk['Local_Government_Area_Code'] = disease['Local_Government_Area_Code']\n",
    "# disease_risk[]\n",
    "for illness, col in selected:\n",
    "    disease_risk[illness+\"_percentage\"] = disease[col] / 100\n",
    "# disease_risk[\"Males_with_Mental_and_Behavioural_Problems_percentage\"] = disease[\"Males_with_Mental_and_Behavioural_Problems_Count\"] / gender_profile[\"total_male\"]\n",
    "# disease_risk[\"Females_with_Mental_and_Behavioural_Problem_percentage\"] = disease[\"Females_with_Mental_and_Behavioural_Problems_Count\"] / gender_profile[\"total_female\"]\n",
    "# disease_risk[\"Persons_with_Mental_and_Behavioural_Problems_percentage\"] = disease[\"Persons_with_Mental_and_Behavioural_Problems_Count\"] / gender_profile[\"total_people\"]"
   ]
  },
  {
   "cell_type": "markdown",
   "metadata": {},
   "source": [
    "## health work labor per person"
   ]
  },
  {
   "cell_type": "markdown",
   "metadata": {},
   "source": [
    "- health working labor / total citizens\n",
    "- df(health_labor_investigated) health labor per person in community"
   ]
  },
  {
   "cell_type": "code",
   "execution_count": null,
   "metadata": {
    "ExecuteTime": {
     "start_time": "2018-04-29T00:06:45.776Z"
    }
   },
   "outputs": [],
   "source": [
    "selected_labor = ['Enrolled_Nurses_?_count', 'General_Medical_Practitioners_?_count',\n",
    "'Specialist_Practitioners_?_count']"
   ]
  },
  {
   "cell_type": "code",
   "execution_count": null,
   "metadata": {
    "ExecuteTime": {
     "start_time": "2018-04-29T00:06:45.779Z"
    }
   },
   "outputs": [],
   "source": [
    "health_labor_investigated = df()\n",
    "health_labor_investigated['Local_Government_Area_Code'] = disease['Local_Government_Area_Code']\n",
    "reg = re.compile(\"([a-zA-Z\\_]+)_\\?_count\")\n",
    "for i in selected_labor:\n",
    "    print(i)\n",
    "    matched = re.match(reg, i)\n",
    "    if matched != None:\n",
    "        health_labor_investigated[matched.group(1)+\"_percentage\"] = health_workforce[i] / gender_profile[\"total_people\"]"
   ]
  },
  {
   "cell_type": "code",
   "execution_count": null,
   "metadata": {
    "ExecuteTime": {
     "start_time": "2018-04-29T00:06:45.781Z"
    }
   },
   "outputs": [],
   "source": [
    "health_labor_investigated_filled_0 = health_labor_investigated.fillna(0)"
   ]
  },
  {
   "cell_type": "markdown",
   "metadata": {},
   "source": [
    "health labor & community citizen disease risk corr"
   ]
  },
  {
   "cell_type": "code",
   "execution_count": null,
   "metadata": {
    "ExecuteTime": {
     "start_time": "2018-04-29T00:06:45.784Z"
    }
   },
   "outputs": [],
   "source": [
    "# disease_risk.corrwith(health_labor_investigated_filled_0)\n",
    "disease_risk_health_labor_merged = disease_risk.merge(right=health_labor_investigated_filled_0)"
   ]
  },
  {
   "cell_type": "code",
   "execution_count": null,
   "metadata": {
    "ExecuteTime": {
     "start_time": "2018-04-29T00:06:45.787Z"
    }
   },
   "outputs": [],
   "source": [
    "# disease_risk_health_labor_merged.corr()\n",
    "# disease_risk_health_labor_merged.drop('Local_Government_Area_Code', axis=1, inplace=True)\n",
    "# plt.figure(figsize = [16, 16])\n",
    "sns.heatmap(disease_risk_health_labor_merged.corr())\n",
    "plt.show()"
   ]
  },
  {
   "cell_type": "code",
   "execution_count": null,
   "metadata": {
    "ExecuteTime": {
     "start_time": "2018-04-29T00:06:45.790Z"
    }
   },
   "outputs": [],
   "source": [
    "disease_risk_health_labor_merged.corr().iloc[-3:, 0:12]"
   ]
  },
  {
   "cell_type": "code",
   "execution_count": null,
   "metadata": {},
   "outputs": [],
   "source": []
  },
  {
   "cell_type": "markdown",
   "metadata": {},
   "source": [
    "# correlation"
   ]
  },
  {
   "cell_type": "code",
   "execution_count": null,
   "metadata": {
    "ExecuteTime": {
     "start_time": "2018-04-29T00:06:45.794Z"
    }
   },
   "outputs": [],
   "source": [
    "selected_community_feature = [\n",
    "'Local_Government_Area_Code',\n",
    "'Female_life_expectancy',\n",
    "'Male_life_expectancy',\n",
    "'GP_attendances_females_per_1000_population',\n",
    "'GP_attendances_males_per_1000_population',\n",
    "'GP_attendances_total_per_1000_population',\n",
    "'IRSED',\n",
    "'Pharmacies_per_1000_population',\n",
    "'Registered_mental_health_clients_per_1000_population',\n",
    "'Unemployment_rate']\n",
    "\n",
    "# 'Number_of_hospitals/health_services'"
   ]
  },
  {
   "cell_type": "code",
   "execution_count": null,
   "metadata": {
    "ExecuteTime": {
     "start_time": "2018-04-29T00:06:45.796Z"
    }
   },
   "outputs": [],
   "source": [
    "lga_feature = lga_profile[selected_community_feature]"
   ]
  },
  {
   "cell_type": "code",
   "execution_count": null,
   "metadata": {
    "ExecuteTime": {
     "start_time": "2018-04-29T00:06:45.799Z"
    }
   },
   "outputs": [],
   "source": [
    "merged = lga_profile.loc[:, [\"Local_Government_Area_Code\", 'Number_of_hospitals/health_services']].merge(\n",
    "    right=gender_profile.loc[:, ['LGA_Code', 'total_people']],\n",
    "     left_on=\"Local_Government_Area_Code\", right_on='LGA_Code')\n",
    "# lga_feature['Number_of_hospitals/health_services_per_person'] = 0.0\n",
    "# lga_feature['Number_of_hospitals/health_services_per_person'] = merged['Number_of_hospitals/health_services'] / merged['total_people']"
   ]
  },
  {
   "cell_type": "code",
   "execution_count": null,
   "metadata": {
    "ExecuteTime": {
     "start_time": "2018-04-29T00:06:45.801Z"
    }
   },
   "outputs": [],
   "source": [
    "divided = df()\n",
    "divided['Number_of_hospitals/health_services_per_person_percentage'] = merged['Number_of_hospitals/health_services'] / merged['total_people']\n",
    "divided[\"Local_Government_Area_Code\"] = merged[\"Local_Government_Area_Code\"]"
   ]
  },
  {
   "cell_type": "code",
   "execution_count": null,
   "metadata": {
    "ExecuteTime": {
     "start_time": "2018-04-29T00:06:45.803Z"
    }
   },
   "outputs": [],
   "source": [
    "lga_feature = lga_feature.merge(right=divided, left_on=\"Local_Government_Area_Code\", right_on=\"Local_Government_Area_Code\")\n",
    "# lga_feature.drop('Local_Government_Area_Code', axis=1, inplace=True)"
   ]
  },
  {
   "cell_type": "code",
   "execution_count": null,
   "metadata": {
    "ExecuteTime": {
     "start_time": "2018-04-29T00:06:45.806Z"
    }
   },
   "outputs": [],
   "source": [
    "sns.heatmap(lga_feature.corr())\n",
    "plt.show()"
   ]
  },
  {
   "cell_type": "code",
   "execution_count": null,
   "metadata": {
    "ExecuteTime": {
     "start_time": "2018-04-29T00:06:45.807Z"
    }
   },
   "outputs": [],
   "source": [
    "lga_feature.corr()"
   ]
  },
  {
   "cell_type": "code",
   "execution_count": null,
   "metadata": {
    "ExecuteTime": {
     "start_time": "2018-04-29T00:06:45.810Z"
    }
   },
   "outputs": [],
   "source": [
    "disease_community_feature_merged = disease_risk.merge(right=lga_feature, left_on='Local_Government_Area_Code', right_on='Local_Government_Area_Code')\n",
    "# disease_community_feature_merged.drop('Local_Government_Area_Code', axis=1, inplace=True)"
   ]
  },
  {
   "cell_type": "code",
   "execution_count": null,
   "metadata": {
    "ExecuteTime": {
     "start_time": "2018-04-29T00:06:45.812Z"
    }
   },
   "outputs": [],
   "source": [
    "sns.heatmap(disease_community_feature_merged.corr())\n",
    "plt.show()"
   ]
  },
  {
   "cell_type": "code",
   "execution_count": null,
   "metadata": {
    "ExecuteTime": {
     "start_time": "2018-04-29T00:06:45.815Z"
    }
   },
   "outputs": [],
   "source": [
    "disease_community_feature_merged.corr().iloc[12:,:13]"
   ]
  },
  {
   "cell_type": "code",
   "execution_count": null,
   "metadata": {
    "ExecuteTime": {
     "start_time": "2018-04-29T00:06:45.817Z"
    }
   },
   "outputs": [],
   "source": [
    "sns.heatmap(disease_community_feature_merged.corr().iloc[13:,:13])\n",
    "plt.show()"
   ]
  },
  {
   "cell_type": "markdown",
   "metadata": {},
   "source": [
    "## disease and community health risk"
   ]
  },
  {
   "cell_type": "markdown",
   "metadata": {},
   "source": [
    "### direct correlation"
   ]
  },
  {
   "cell_type": "markdown",
   "metadata": {},
   "source": [
    "#### disease and life style"
   ]
  },
  {
   "cell_type": "code",
   "execution_count": null,
   "metadata": {
    "ExecuteTime": {
     "start_time": "2018-04-29T00:06:45.821Z"
    }
   },
   "outputs": [],
   "source": [
    "disease_risk_merged = disease_risk.merge(right=health_risk_percentage, left_on=\"Local_Government_Area_Code\", right_on=\"Local_Government_Area_Code\")"
   ]
  },
  {
   "cell_type": "code",
   "execution_count": null,
   "metadata": {
    "ExecuteTime": {
     "start_time": "2018-04-29T00:06:45.823Z"
    }
   },
   "outputs": [],
   "source": [
    "disease_risk_merged.drop('Local_Government_Area_Code', axis=1, inplace=True)"
   ]
  },
  {
   "cell_type": "code",
   "execution_count": null,
   "metadata": {
    "ExecuteTime": {
     "start_time": "2018-04-29T00:06:45.827Z"
    }
   },
   "outputs": [],
   "source": [
    "disease_risk_merged.corr().iloc[0:12, 13:]"
   ]
  },
  {
   "cell_type": "code",
   "execution_count": null,
   "metadata": {
    "ExecuteTime": {
     "start_time": "2018-04-29T00:06:45.829Z"
    }
   },
   "outputs": [],
   "source": [
    "sns.heatmap(disease_risk_merged.corr().iloc[0:12, 13:])\n",
    "plt.show()"
   ]
  },
  {
   "cell_type": "markdown",
   "metadata": {},
   "source": [
    "#### life style and behavior"
   ]
  },
  {
   "cell_type": "code",
   "execution_count": null,
   "metadata": {
    "ExecuteTime": {
     "start_time": "2018-04-29T00:06:45.832Z"
    }
   },
   "outputs": [],
   "source": [
    "health_risk_feature_merged = health_risk_percentage.merge(right=lga_feature, left_on=\"Local_Government_Area_Code\", right_on=\"Local_Government_Area_Code\")\n",
    "health_risk_feature_merged.drop('Local_Government_Area_Code', axis=1, inplace=True)"
   ]
  },
  {
   "cell_type": "code",
   "execution_count": null,
   "metadata": {
    "ExecuteTime": {
     "start_time": "2018-04-29T00:06:45.835Z"
    }
   },
   "outputs": [],
   "source": [
    "health_risk_feature_merged.corr().iloc[0:10, 10:]"
   ]
  },
  {
   "cell_type": "code",
   "execution_count": null,
   "metadata": {
    "ExecuteTime": {
     "start_time": "2018-04-29T00:06:45.836Z"
    }
   },
   "outputs": [],
   "source": [
    "sns.heatmap(health_risk_feature_merged.corr().iloc[0:10, 10:])\n",
    "plt.show()"
   ]
  },
  {
   "cell_type": "code",
   "execution_count": null,
   "metadata": {},
   "outputs": [],
   "source": []
  },
  {
   "cell_type": "markdown",
   "metadata": {},
   "source": [
    "### group by geo"
   ]
  }
 ],
 "metadata": {
  "hide_input": false,
  "kernelspec": {
   "display_name": "Python 3",
   "language": "python",
   "name": "python3"
  },
  "language_info": {
   "codemirror_mode": {
    "name": "ipython",
    "version": 3
   },
   "file_extension": ".py",
   "mimetype": "text/x-python",
   "name": "python",
   "nbconvert_exporter": "python",
   "pygments_lexer": "ipython3",
   "version": "3.6.3"
  },
  "toc": {
   "nav_menu": {},
   "number_sections": true,
   "sideBar": true,
   "skip_h1_title": false,
   "title_cell": "Table of Contents",
   "title_sidebar": "Contents",
   "toc_cell": true,
   "toc_position": {},
   "toc_section_display": true,
   "toc_window_display": true
  }
 },
 "nbformat": 4,
 "nbformat_minor": 2
}
