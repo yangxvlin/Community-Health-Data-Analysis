{
 "cells": [
  {
   "cell_type": "markdown",
   "metadata": {
    "toc": true
   },
   "source": [
    "<h1>Table of Contents<span class=\"tocSkip\"></span></h1>\n",
    "<div class=\"toc\"><ul class=\"toc-item\"><li><span><a href=\"#library-used\" data-toc-modified-id=\"library-used-1\"><span class=\"toc-item-num\">1&nbsp;&nbsp;</span>library used</a></span></li><li><span><a href=\"#read-data\" data-toc-modified-id=\"read-data-2\"><span class=\"toc-item-num\">2&nbsp;&nbsp;</span>read data</a></span><ul class=\"toc-item\"><li><span><a href=\"#rename-columns-function\" data-toc-modified-id=\"rename-columns-function-2.1\"><span class=\"toc-item-num\">2.1&nbsp;&nbsp;</span>rename columns function</a></span><ul class=\"toc-item\"><li><span><a href=\"#get_title_from_json()\" data-toc-modified-id=\"get_title_from_json()-2.1.1\"><span class=\"toc-item-num\">2.1.1&nbsp;&nbsp;</span>get_title_from_json()</a></span></li><li><span><a href=\"#rename_columns()\" data-toc-modified-id=\"rename_columns()-2.1.2\"><span class=\"toc-item-num\">2.1.2&nbsp;&nbsp;</span>rename_columns()</a></span></li></ul></li><li><span><a href=\"#read-data\" data-toc-modified-id=\"read-data-2.2\"><span class=\"toc-item-num\">2.2&nbsp;&nbsp;</span>read data</a></span></li><li><span><a href=\"#rename-columns\" data-toc-modified-id=\"rename-columns-2.3\"><span class=\"toc-item-num\">2.3&nbsp;&nbsp;</span>rename columns</a></span></li></ul></li><li><span><a href=\"#transfer-data\" data-toc-modified-id=\"transfer-data-3\"><span class=\"toc-item-num\">3&nbsp;&nbsp;</span>transfer data</a></span><ul class=\"toc-item\"><li><span><a href=\"#split-to-df()\" data-toc-modified-id=\"split-to-df()-3.1\"><span class=\"toc-item-num\">3.1&nbsp;&nbsp;</span>split to df()</a></span><ul class=\"toc-item\"><li><span><a href=\"#disease-risk-(percentage)---normalize\" data-toc-modified-id=\"disease-risk-(percentage)---normalize-3.1.1\"><span class=\"toc-item-num\">3.1.1&nbsp;&nbsp;</span>disease risk (percentage) - normalize</a></span></li><li><span><a href=\"#disease_risk_trust\" data-toc-modified-id=\"disease_risk_trust-3.1.2\"><span class=\"toc-item-num\">3.1.2&nbsp;&nbsp;</span>disease_risk_trust</a></span></li><li><span><a href=\"#health_risk-(percentage)---normalize\" data-toc-modified-id=\"health_risk-(percentage)---normalize-3.1.3\"><span class=\"toc-item-num\">3.1.3&nbsp;&nbsp;</span>health_risk (percentage) - normalize</a></span></li><li><span><a href=\"#health_risk_trust\" data-toc-modified-id=\"health_risk_trust-3.1.4\"><span class=\"toc-item-num\">3.1.4&nbsp;&nbsp;</span>health_risk_trust</a></span></li><li><span><a href=\"#community-health-service\" data-toc-modified-id=\"community-health-service-3.1.5\"><span class=\"toc-item-num\">3.1.5&nbsp;&nbsp;</span>community health service</a></span></li><li><span><a href=\"#health_labor\" data-toc-modified-id=\"health_labor-3.1.6\"><span class=\"toc-item-num\">3.1.6&nbsp;&nbsp;</span>health_labor</a></span></li></ul></li><li><span><a href=\"#split-by-area\" data-toc-modified-id=\"split-by-area-3.2\"><span class=\"toc-item-num\">3.2&nbsp;&nbsp;</span>split by area</a></span></li></ul></li><li><span><a href=\"#initial-correlation-investigation\" data-toc-modified-id=\"initial-correlation-investigation-4\"><span class=\"toc-item-num\">4&nbsp;&nbsp;</span>initial correlation investigation</a></span><ul class=\"toc-item\"><li><span><a href=\"#disease_risk-&amp;-health_risk\" data-toc-modified-id=\"disease_risk-&amp;-health_risk-4.1\"><span class=\"toc-item-num\">4.1&nbsp;&nbsp;</span>disease_risk &amp; health_risk</a></span><ul class=\"toc-item\"><li><span><a href=\"#cal-corr\" data-toc-modified-id=\"cal-corr-4.1.1\"><span class=\"toc-item-num\">4.1.1&nbsp;&nbsp;</span>cal corr</a></span></li><li><span><a href=\"#heat-map\" data-toc-modified-id=\"heat-map-4.1.2\"><span class=\"toc-item-num\">4.1.2&nbsp;&nbsp;</span>heat map</a></span></li></ul></li><li><span><a href=\"#health-risk-&amp;-community-feature\" data-toc-modified-id=\"health-risk-&amp;-community-feature-4.2\"><span class=\"toc-item-num\">4.2&nbsp;&nbsp;</span>health risk &amp; community feature</a></span><ul class=\"toc-item\"><li><span><a href=\"#cal-corr\" data-toc-modified-id=\"cal-corr-4.2.1\"><span class=\"toc-item-num\">4.2.1&nbsp;&nbsp;</span>cal corr</a></span></li><li><span><a href=\"#heat-map\" data-toc-modified-id=\"heat-map-4.2.2\"><span class=\"toc-item-num\">4.2.2&nbsp;&nbsp;</span>heat map</a></span></li></ul></li></ul></li><li><span><a href=\"#linear-regression\" data-toc-modified-id=\"linear-regression-5\"><span class=\"toc-item-num\">5&nbsp;&nbsp;</span>linear regression</a></span><ul class=\"toc-item\"><li><span><a href=\"#regression-function\" data-toc-modified-id=\"regression-function-5.1\"><span class=\"toc-item-num\">5.1&nbsp;&nbsp;</span>regression function</a></span></li><li><span><a href=\"#drinking-alcohol-and-circulatory-system-disease\" data-toc-modified-id=\"drinking-alcohol-and-circulatory-system-disease-5.2\"><span class=\"toc-item-num\">5.2&nbsp;&nbsp;</span>drinking alcohol and circulatory system disease</a></span></li><li><span><a href=\"#percentage-of-obese-adults-&amp;-musculoskeletal-system-diseases-risk\" data-toc-modified-id=\"percentage-of-obese-adults-&amp;-musculoskeletal-system-diseases-risk-5.3\"><span class=\"toc-item-num\">5.3&nbsp;&nbsp;</span>percentage of obese adults &amp; musculoskeletal system diseases risk</a></span></li><li><span><a href=\"#percentage-of-obese-adults-&amp;-arthritis\" data-toc-modified-id=\"percentage-of-obese-adults-&amp;-arthritis-5.4\"><span class=\"toc-item-num\">5.4&nbsp;&nbsp;</span>percentage of obese adults &amp; arthritis</a></span></li><li><span><a href=\"#percentage-of-adult-smokers-&amp;-asthma-risk\" data-toc-modified-id=\"percentage-of-adult-smokers-&amp;-asthma-risk-5.5\"><span class=\"toc-item-num\">5.5&nbsp;&nbsp;</span>percentage of adult smokers &amp; asthma risk</a></span></li><li><span><a href=\"#percentage-of-adult-smokers-&amp;-chronic-obstructive-pulmonary-disease\" data-toc-modified-id=\"percentage-of-adult-smokers-&amp;-chronic-obstructive-pulmonary-disease-5.6\"><span class=\"toc-item-num\">5.6&nbsp;&nbsp;</span>percentage of adult smokers &amp; chronic obstructive pulmonary disease</a></span></li></ul></li><li><span><a href=\"#community-feature-analysis\" data-toc-modified-id=\"community-feature-analysis-6\"><span class=\"toc-item-num\">6&nbsp;&nbsp;</span>community feature analysis</a></span><ul class=\"toc-item\"><li><span><a href=\"#group-by-metro/rural\" data-toc-modified-id=\"group-by-metro/rural-6.1\"><span class=\"toc-item-num\">6.1&nbsp;&nbsp;</span>group by metro/rural</a></span><ul class=\"toc-item\"><li><span><a href=\"#parallel-coordinates\" data-toc-modified-id=\"parallel-coordinates-6.1.1\"><span class=\"toc-item-num\">6.1.1&nbsp;&nbsp;</span>parallel coordinates</a></span></li><li><span><a href=\"#principle-coordinates\" data-toc-modified-id=\"principle-coordinates-6.1.2\"><span class=\"toc-item-num\">6.1.2&nbsp;&nbsp;</span>principle coordinates</a></span></li><li><span><a href=\"#k-means-for-smoker-and-Chronic_Obstructive_Pulmonary_Disease\" data-toc-modified-id=\"k-means-for-smoker-and-Chronic_Obstructive_Pulmonary_Disease-6.1.3\"><span class=\"toc-item-num\">6.1.3&nbsp;&nbsp;</span>k-means for smoker and Chronic_Obstructive_Pulmonary_Disease</a></span></li><li><span><a href=\"#cluster-analysis\" data-toc-modified-id=\"cluster-analysis-6.1.4\"><span class=\"toc-item-num\">6.1.4&nbsp;&nbsp;</span>cluster analysis</a></span></li></ul></li></ul></li><li><span><a href=\"#pca-feature-reduction\" data-toc-modified-id=\"pca-feature-reduction-7\"><span class=\"toc-item-num\">7&nbsp;&nbsp;</span>pca feature reduction</a></span><ul class=\"toc-item\"><li><span><a href=\"#disease-reduction\" data-toc-modified-id=\"disease-reduction-7.1\"><span class=\"toc-item-num\">7.1&nbsp;&nbsp;</span>disease reduction</a></span></li><li><span><a href=\"#health-risk-reduction\" data-toc-modified-id=\"health-risk-reduction-7.2\"><span class=\"toc-item-num\">7.2&nbsp;&nbsp;</span>health risk reduction</a></span></li><li><span><a href=\"#pca-analysis-plot\" data-toc-modified-id=\"pca-analysis-plot-7.3\"><span class=\"toc-item-num\">7.3&nbsp;&nbsp;</span>pca analysis plot</a></span></li><li><span><a href=\"#k-cluster(2)\" data-toc-modified-id=\"k-cluster(2)-7.4\"><span class=\"toc-item-num\">7.4&nbsp;&nbsp;</span>k-cluster(2)</a></span></li><li><span><a href=\"#clustered-community-feature-analysis\" data-toc-modified-id=\"clustered-community-feature-analysis-7.5\"><span class=\"toc-item-num\">7.5&nbsp;&nbsp;</span>clustered community feature analysis</a></span></li></ul></li></ul></div>"
   ]
  },
  {
   "cell_type": "markdown",
   "metadata": {},
   "source": [
    "# library used"
   ]
  },
  {
   "cell_type": "markdown",
   "metadata": {
    "ExecuteTime": {
     "end_time": "2018-05-05T12:39:41.543570Z",
     "start_time": "2018-05-05T12:39:41.537050Z"
    }
   },
   "source": [
    "- Primary pyhton library like pandas and numpy are used. \n",
    "- re library is used to make it easier to process columns and reduce redundant works. \n",
    "- json is imported to rename columns and read metadata from json files. \n",
    "- seaborn library is used to do line regression modelling. \n",
    "- sklearn library is imported as it is required for principle coordinates analysis and K-mean clustering. \n",
    "- matplotlib library is required for graph plotting.\n"
   ]
  },
  {
   "cell_type": "code",
   "execution_count": 3,
   "metadata": {
    "ExecuteTime": {
     "end_time": "2018-05-05T12:47:27.769166Z",
     "start_time": "2018-05-05T12:47:27.758137Z"
    }
   },
   "outputs": [],
   "source": [
    "import numpy as np\n",
    "import pandas as pd\n",
    "from pandas import DataFrame as df\n",
    "\n",
    "import re\n",
    "import matplotlib.pyplot as plt\n",
    "import json\n",
    "\n",
    "from collections import defaultdict\n",
    "import seaborn as sns\n",
    "\n",
    "from pandas.plotting import parallel_coordinates as pc_plot\n",
    "\n",
    "from sklearn.preprocessing import StandardScaler\n",
    "from sklearn.decomposition import PCA as sklearnPCA\n",
    "\n",
    "from sklearn.cluster import KMeans"
   ]
  },
  {
   "cell_type": "markdown",
   "metadata": {},
   "source": [
    "# read data"
   ]
  },
  {
   "cell_type": "markdown",
   "metadata": {},
   "source": [
    "## rename columns function"
   ]
  },
  {
   "cell_type": "markdown",
   "metadata": {},
   "source": [
    "### get_title_from_json()"
   ]
  },
  {
   "cell_type": "markdown",
   "metadata": {},
   "source": [
    "- read json file and get title to replace"
   ]
  },
  {
   "cell_type": "code",
   "execution_count": 4,
   "metadata": {
    "ExecuteTime": {
     "end_time": "2018-05-05T12:47:33.880903Z",
     "start_time": "2018-05-05T12:47:33.873889Z"
    }
   },
   "outputs": [],
   "source": [
    "from pprint import pprint\n",
    "\n",
    "def get_title_from_json(file):\n",
    "    with open(file) as title_file:\n",
    "        title = json.load(title_file)[ 'selectedAttributes']\n",
    "        # delete unwanted character\n",
    "        res = {}\n",
    "        for dict_title in title:\n",
    "            res[dict_title['name']] = dict_title['title'].replace(\"- \", \"\").replace(\" \", \"_\")\n",
    "    return res"
   ]
  },
  {
   "cell_type": "markdown",
   "metadata": {},
   "source": [
    "### rename_columns()"
   ]
  },
  {
   "cell_type": "markdown",
   "metadata": {},
   "source": [
    "- replace each column in a df()"
   ]
  },
  {
   "cell_type": "code",
   "execution_count": 5,
   "metadata": {
    "ExecuteTime": {
     "end_time": "2018-05-05T12:47:36.052882Z",
     "start_time": "2018-05-05T12:47:36.041853Z"
    }
   },
   "outputs": [],
   "source": [
    "def rename_columns(file, table, strip=[' ']):\n",
    "    title = get_title_from_json(file)\n",
    "    # remove space in columns\n",
    "    for item in strip[0]:\n",
    "        renamed = table.rename(columns=lambda x: x.replace(item, ''))\n",
    "    # reneme columns\n",
    "    renamed = renamed.rename(columns=title)\n",
    "    if len(strip) > 1:\n",
    "        for item in strip[1]:\n",
    "            renamed = table.rename(columns=lambda x: x.replace(item, ''))\n",
    "    return renamed"
   ]
  },
  {
   "cell_type": "markdown",
   "metadata": {},
   "source": [
    "## read data"
   ]
  },
  {
   "cell_type": "markdown",
   "metadata": {},
   "source": [
    "- read .csv file by pd.read_csv()"
   ]
  },
  {
   "cell_type": "code",
   "execution_count": 6,
   "metadata": {
    "ExecuteTime": {
     "end_time": "2018-05-05T12:47:42.610926Z",
     "start_time": "2018-05-05T12:47:42.541214Z"
    }
   },
   "outputs": [],
   "source": [
    "disease = pd.read_csv(\"LGA11_Chronic_Disease_-_Modelled_Estimate.csv\")"
   ]
  },
  {
   "cell_type": "code",
   "execution_count": 7,
   "metadata": {
    "ExecuteTime": {
     "end_time": "2018-05-05T12:47:44.232426Z",
     "start_time": "2018-05-05T12:47:44.126844Z"
    }
   },
   "outputs": [],
   "source": [
    "lga_profile = pd.read_csv(\"Local_Government_Area__LGA__profiles_data_2011.csv\")"
   ]
  },
  {
   "cell_type": "code",
   "execution_count": 7,
   "metadata": {
    "ExecuteTime": {
     "end_time": "2018-05-01T10:28:10.753436Z",
     "start_time": "2018-05-01T10:28:10.624279Z"
    }
   },
   "outputs": [],
   "source": [
    "adualt_health_risk = pd.read_csv(\"LGA11_Health_Risk_Factors_-_Modelled_Estimate.csv\")"
   ]
  },
  {
   "cell_type": "code",
   "execution_count": 8,
   "metadata": {
    "ExecuteTime": {
     "end_time": "2018-05-01T10:28:10.904387Z",
     "start_time": "2018-05-01T10:28:10.755442Z"
    }
   },
   "outputs": [],
   "source": [
    "psychological_distress = pd.read_csv(\"LGA11_Psychological_Distress_-_Modelled_Estimate.csv\")"
   ]
  },
  {
   "cell_type": "code",
   "execution_count": 9,
   "metadata": {
    "ExecuteTime": {
     "end_time": "2018-05-01T10:28:11.019490Z",
     "start_time": "2018-05-01T10:28:10.906361Z"
    }
   },
   "outputs": [],
   "source": [
    "population = pd.read_csv(\"LGA_Infrastructure_and_Essential_Services_Indicators_2011.csv\")"
   ]
  },
  {
   "cell_type": "markdown",
   "metadata": {},
   "source": [
    "## rename columns"
   ]
  },
  {
   "cell_type": "markdown",
   "metadata": {},
   "source": [
    "- read .json file and replace column name in each pd.df()"
   ]
  },
  {
   "cell_type": "code",
   "execution_count": 10,
   "metadata": {
    "ExecuteTime": {
     "end_time": "2018-05-01T10:28:11.128089Z",
     "start_time": "2018-05-01T10:28:11.021461Z"
    }
   },
   "outputs": [],
   "source": [
    "disease = rename_columns(\"LGA11_Chronic_Disease_-_Modelled_Estimate.json\", disease)"
   ]
  },
  {
   "cell_type": "code",
   "execution_count": 11,
   "metadata": {
    "ExecuteTime": {
     "end_time": "2018-05-01T10:28:11.245383Z",
     "start_time": "2018-05-01T10:28:11.130095Z"
    }
   },
   "outputs": [],
   "source": [
    "lga_profile = rename_columns(\"Local_Government_Area__LGA__profiles_data_2011.json\", lga_profile)"
   ]
  },
  {
   "cell_type": "code",
   "execution_count": 13,
   "metadata": {
    "ExecuteTime": {
     "end_time": "2018-05-01T10:28:11.500583Z",
     "start_time": "2018-05-01T10:28:11.383772Z"
    }
   },
   "outputs": [],
   "source": [
    "adualt_health_risk = rename_columns(\"LGA11_Health_Risk_Factors_-_Modelled_Estimate.json\", adualt_health_risk)"
   ]
  },
  {
   "cell_type": "code",
   "execution_count": 14,
   "metadata": {
    "ExecuteTime": {
     "end_time": "2018-05-01T10:28:11.630081Z",
     "start_time": "2018-05-01T10:28:11.502588Z"
    }
   },
   "outputs": [],
   "source": [
    "psychological_distress = rename_columns(\"LGA11_Psychological_Distress_-_Modelled_Estimate.json\", psychological_distress)"
   ]
  },
  {
   "cell_type": "code",
   "execution_count": 15,
   "metadata": {
    "ExecuteTime": {
     "end_time": "2018-05-01T10:28:11.735419Z",
     "start_time": "2018-05-01T10:28:11.632563Z"
    }
   },
   "outputs": [],
   "source": [
    "population = rename_columns(\"LGA_Infrastructure_and_Essential_Services_Indicators_2011.json\", population)"
   ]
  },
  {
   "cell_type": "markdown",
   "metadata": {},
   "source": [
    "# transfer data"
   ]
  },
  {
   "cell_type": "markdown",
   "metadata": {},
   "source": [
    "## split to df()"
   ]
  },
  {
   "cell_type": "markdown",
   "metadata": {},
   "source": [
    "### disease risk (percentage) - normalize"
   ]
  },
  {
   "cell_type": "code",
   "execution_count": 16,
   "metadata": {
    "ExecuteTime": {
     "end_time": "2018-05-01T10:28:11.838375Z",
     "start_time": "2018-05-01T10:28:11.736923Z"
    }
   },
   "outputs": [],
   "source": [
    "reg = re.compile(\"([a-zA-Z\\_]+)_Rate_per_100\")\n",
    "disease_selected = []\n",
    "\n",
    "for index, col in enumerate(disease.columns):\n",
    "#     print(index, col)\n",
    "    matched = re.match(reg, col)\n",
    "    if matched != None:\n",
    "        disease_selected.append((matched.group(1), col))"
   ]
  },
  {
   "cell_type": "code",
   "execution_count": 17,
   "metadata": {
    "ExecuteTime": {
     "end_time": "2018-05-01T10:28:11.978572Z",
     "start_time": "2018-05-01T10:28:11.840891Z"
    }
   },
   "outputs": [],
   "source": [
    "disease_risk = df()\n",
    "disease_risk['Local_Government_Area_Code'] = disease['Local_Government_Area_Code']\n",
    "# disease_risk[]\n",
    "for illness, col in disease_selected:\n",
    "    disease_risk[illness] = disease[col] / 100"
   ]
  },
  {
   "cell_type": "code",
   "execution_count": 18,
   "metadata": {
    "ExecuteTime": {
     "end_time": "2018-05-01T10:28:12.072757Z",
     "start_time": "2018-05-01T10:28:11.980541Z"
    }
   },
   "outputs": [],
   "source": [
    "disease_risk = disease_risk.iloc[:-1, :]"
   ]
  },
  {
   "cell_type": "markdown",
   "metadata": {},
   "source": [
    "### disease_risk_trust"
   ]
  },
  {
   "cell_type": "code",
   "execution_count": 19,
   "metadata": {
    "ExecuteTime": {
     "end_time": "2018-05-01T10:28:12.200970Z",
     "start_time": "2018-05-01T10:28:12.074762Z"
    }
   },
   "outputs": [],
   "source": [
    "reg = re.compile(\"([a-zA-Z\\_]+)_RRMSE\")\n",
    "disease_trust_selected = []\n",
    "\n",
    "for index, col in enumerate(disease.columns):\n",
    "#     print(index, col)\n",
    "    matched = re.match(reg, col)\n",
    "    if matched != None:\n",
    "        disease_trust_selected.append(col)"
   ]
  },
  {
   "cell_type": "code",
   "execution_count": 20,
   "metadata": {
    "ExecuteTime": {
     "end_time": "2018-05-01T10:28:12.311758Z",
     "start_time": "2018-05-01T10:28:12.203478Z"
    }
   },
   "outputs": [],
   "source": [
    "disease_risk_trust = df()\n",
    "disease_risk_trust['Local_Government_Area_Code'] = disease['Local_Government_Area_Code']\n",
    "for col in disease_trust_selected:\n",
    "    disease_risk_trust[col] = disease[col]"
   ]
  },
  {
   "cell_type": "markdown",
   "metadata": {},
   "source": [
    "### health_risk (percentage) - normalize"
   ]
  },
  {
   "cell_type": "code",
   "execution_count": 21,
   "metadata": {
    "ExecuteTime": {
     "end_time": "2018-05-01T10:28:12.720482Z",
     "start_time": "2018-05-01T10:28:12.313278Z"
    }
   },
   "outputs": [],
   "source": [
    "health_risk = df()"
   ]
  },
  {
   "cell_type": "code",
   "execution_count": 22,
   "metadata": {
    "ExecuteTime": {
     "end_time": "2018-05-01T10:28:12.838842Z",
     "start_time": "2018-05-01T10:28:12.722491Z"
    }
   },
   "outputs": [],
   "source": [
    "reg = re.compile(\"([a-zA-Z\\_\\d+]+)\\_Rate\\_per\\_100\")\n",
    "health_risk_selected = []\n",
    "\n",
    "for index, col in enumerate(adualt_health_risk.columns):\n",
    "#     print(index, col)\n",
    "    matched = re.match(reg, col)\n",
    "    if matched != None:\n",
    "        health_risk_selected.append((matched.group(1), col))"
   ]
  },
  {
   "cell_type": "code",
   "execution_count": 23,
   "metadata": {
    "ExecuteTime": {
     "end_time": "2018-05-01T10:28:13.010306Z",
     "start_time": "2018-05-01T10:28:12.841365Z"
    }
   },
   "outputs": [],
   "source": [
    "health_risk = df()\n",
    "health_risk['Local_Government_Area_Code'] = adualt_health_risk['Local_Government_Area_Code']\n",
    "# disease_risk[]\n",
    "for risk_life_style, col in health_risk_selected:\n",
    "    health_risk[risk_life_style] = adualt_health_risk[col] / 100"
   ]
  },
  {
   "cell_type": "code",
   "execution_count": 24,
   "metadata": {
    "ExecuteTime": {
     "end_time": "2018-05-01T10:28:13.150417Z",
     "start_time": "2018-05-01T10:28:13.012312Z"
    }
   },
   "outputs": [],
   "source": [
    "health_risk['High_or_Very_High_Psychological_Distress_Levels_(K-10)'] = psychological_distress['High_or_Very_High_Psychological_Distress_Levels_(K-10)_Rate_per_100'] / 100"
   ]
  },
  {
   "cell_type": "code",
   "execution_count": 25,
   "metadata": {
    "ExecuteTime": {
     "end_time": "2018-05-01T10:28:13.259970Z",
     "start_time": "2018-05-01T10:28:13.152445Z"
    }
   },
   "outputs": [],
   "source": [
    "health_risk['GP_attendances_females'] = lga_profile['GP_attendances_females_per_1000_population'] / 1000\n",
    "health_risk['GP_attendances_males'] = lga_profile['GP_attendances_males_per_1000_population'] / 1000\n",
    "health_risk['GP_attendances_total'] = lga_profile['GP_attendances_total_per_1000_population'] / 1000"
   ]
  },
  {
   "cell_type": "code",
   "execution_count": 26,
   "metadata": {
    "ExecuteTime": {
     "end_time": "2018-05-01T10:28:13.368407Z",
     "start_time": "2018-05-01T10:28:13.261974Z"
    }
   },
   "outputs": [],
   "source": [
    "health_risk['population_with_membership_of_organised_groups'] = lga_profile['%_of_population_with_membership_of_organised_groups'] / 100\n",
    "health_risk['population_with_food_insecurity'] = lga_profile['%_population_with_food_insecurity'] / 100\n",
    "health_risk['population_with_private_health_insurance'] = lga_profile['%_population_with_private_health_insurance'] / 100\n",
    "health_risk['persons_that_did_not_meet_fruit_and_vegetable_guidelines'] = lga_profile['%_persons_that_did_not_meet_fruit_and_vegetable_guidelines'] / 100\n",
    "health_risk['persons_who_did_not_meet_physical_activity_guidelines'] = lga_profile['%_persons_who_did_not_meet_physical_activity_guidelines'] / 100"
   ]
  },
  {
   "cell_type": "code",
   "execution_count": 27,
   "metadata": {
    "ExecuteTime": {
     "end_time": "2018-05-01T10:28:13.458143Z",
     "start_time": "2018-05-01T10:28:13.371414Z"
    }
   },
   "outputs": [],
   "source": [
    "health_risk = health_risk.iloc[:-1, :]"
   ]
  },
  {
   "cell_type": "markdown",
   "metadata": {},
   "source": [
    "### health_risk_trust"
   ]
  },
  {
   "cell_type": "code",
   "execution_count": 28,
   "metadata": {
    "ExecuteTime": {
     "end_time": "2018-05-01T10:28:13.617963Z",
     "start_time": "2018-05-01T10:28:13.459649Z"
    }
   },
   "outputs": [],
   "source": [
    "reg = re.compile(\"([a-zA-Z\\_\\d+]+)\\_RRMSE\")\n",
    "health_risk_trust_selected = []\n",
    "\n",
    "for index, col in enumerate(adualt_health_risk.columns):\n",
    "    matched = re.match(reg, col)\n",
    "    if matched != None:\n",
    "        health_risk_trust_selected.append(col)\n",
    "health_risk_trust_selected.append('High_or_Very_High_Psychological_Distress_Levels_(K-10)_RRMSE')"
   ]
  },
  {
   "cell_type": "code",
   "execution_count": 29,
   "metadata": {
    "ExecuteTime": {
     "end_time": "2018-05-01T10:28:13.727557Z",
     "start_time": "2018-05-01T10:28:13.619470Z"
    }
   },
   "outputs": [],
   "source": [
    "health_risk_trust = df()\n",
    "health_risk_trust['Local_Government_Area_Code'] = disease['Local_Government_Area_Code']\n",
    "for col in health_risk_trust_selected[:-1]:\n",
    "    health_risk_trust[col] = adualt_health_risk[col]\n",
    "health_risk_trust[health_risk_trust_selected[-1]] = psychological_distress[health_risk_trust_selected[-1]]"
   ]
  },
  {
   "cell_type": "markdown",
   "metadata": {
    "heading_collapsed": true
   },
   "source": [
    "### community health service"
   ]
  },
  {
   "cell_type": "code",
   "execution_count": 30,
   "metadata": {
    "ExecuteTime": {
     "end_time": "2018-05-01T10:28:13.833353Z",
     "start_time": "2018-05-01T10:28:13.729062Z"
    },
    "hidden": true
   },
   "outputs": [],
   "source": [
    "health_service = df()\n",
    "health_service['Local_Government_Area_Code'] = disease['Local_Government_Area_Code']"
   ]
  },
  {
   "cell_type": "code",
   "execution_count": null,
   "metadata": {
    "hidden": true
   },
   "outputs": [],
   "source": []
  },
  {
   "cell_type": "markdown",
   "metadata": {
    "heading_collapsed": true
   },
   "source": [
    "### health_labor"
   ]
  },
  {
   "cell_type": "code",
   "execution_count": 31,
   "metadata": {
    "ExecuteTime": {
     "end_time": "2018-05-01T10:28:14.263290Z",
     "start_time": "2018-05-01T10:28:13.834892Z"
    },
    "hidden": true
   },
   "outputs": [],
   "source": [
    "health_labor = df()\n",
    "health_labor['Enrolled_Nurses'] = health_workforce['Enrolled_Nurses_?_rate_per_100,000'] / 100000\n",
    "health_labor['Specialist_Practitioners'] = health_workforce['Specialist_Practitioners_?_rate_per_100,000'] / 100000"
   ]
  },
  {
   "cell_type": "code",
   "execution_count": 32,
   "metadata": {
    "ExecuteTime": {
     "end_time": "2018-05-01T10:28:14.387310Z",
     "start_time": "2018-05-01T10:28:14.265301Z"
    },
    "hidden": true
   },
   "outputs": [],
   "source": [
    "health_labor['Pharmacies'] = lga_profile['Pharmacies_per_1000_population'] / 1000\n",
    "health_labor['Registered_mental_health_clients'] = lga_profile['Registered_mental_health_clients_per_1000_population'] / 1000\n",
    "health_labor['Number_of_hospitals/health_services'] = lga_profile['Number_of_hospitals/health_services'] / population[\"Resident_population\"]\n"
   ]
  },
  {
   "cell_type": "code",
   "execution_count": 33,
   "metadata": {
    "ExecuteTime": {
     "end_time": "2018-05-01T10:28:14.486574Z",
     "start_time": "2018-05-01T10:28:14.390819Z"
    },
    "hidden": true
   },
   "outputs": [],
   "source": [
    "health_labor = health_labor.iloc[:-1, :]"
   ]
  },
  {
   "cell_type": "markdown",
   "metadata": {
    "ExecuteTime": {
     "end_time": "2018-04-29T03:44:08.484313Z",
     "start_time": "2018-04-29T03:44:08.481305Z"
    }
   },
   "source": [
    "## split by area"
   ]
  },
  {
   "cell_type": "code",
   "execution_count": 34,
   "metadata": {
    "ExecuteTime": {
     "end_time": "2018-05-01T10:28:14.658056Z",
     "start_time": "2018-05-01T10:28:14.488580Z"
    }
   },
   "outputs": [],
   "source": [
    "local_governement = df()\n",
    "local_governement[\"Local_Government_Area_Name\"] =health_workforce[\"Local_Government_Area_Name\"]\n",
    "local_governement[\"name\"] = \"\"\n",
    "local_governement[\"type\"] = \"\"\n",
    "local_governement[\"Local_Government_Area_Code\"] = health_workforce[\"Local_Government_Area_Code\"]\n",
    "\n",
    "reg = re.compile(\"([A-Za-z\\s-]*)[\\s]*(\\([A-Z]*\\))\")\n",
    "lga_group = defaultdict(int)\n",
    "\n",
    "for index, lga in enumerate(local_governement[\"Local_Government_Area_Name\"]):\n",
    "    matched = re.match(reg, lga)\n",
    "    if matched != None:\n",
    "        lga_group[matched.group(2)] += 1\n",
    "        local_governement.loc[index, \"name\"] = matched.group(1)\n",
    "        local_governement.loc[index, \"type\"] = matched.group(2)"
   ]
  },
  {
   "cell_type": "code",
   "execution_count": 35,
   "metadata": {
    "ExecuteTime": {
     "end_time": "2018-05-01T10:28:14.764315Z",
     "start_time": "2018-05-01T10:28:14.660537Z"
    },
    "scrolled": true
   },
   "outputs": [
    {
     "data": {
      "text/plain": [
       "defaultdict(int, {'(B)': 1, '(C)': 32, '(RC)': 7, '(S)': 39})"
      ]
     },
     "execution_count": 35,
     "metadata": {},
     "output_type": "execute_result"
    }
   ],
   "source": [
    "lga_group"
   ]
  },
  {
   "cell_type": "code",
   "execution_count": null,
   "metadata": {},
   "outputs": [],
   "source": []
  },
  {
   "cell_type": "code",
   "execution_count": null,
   "metadata": {},
   "outputs": [],
   "source": []
  },
  {
   "cell_type": "markdown",
   "metadata": {},
   "source": [
    "# initial correlation investigation"
   ]
  },
  {
   "cell_type": "markdown",
   "metadata": {},
   "source": [
    "## disease_risk & health_risk"
   ]
  },
  {
   "cell_type": "code",
   "execution_count": 36,
   "metadata": {
    "ExecuteTime": {
     "end_time": "2018-05-01T10:28:14.871098Z",
     "start_time": "2018-05-01T10:28:14.766318Z"
    }
   },
   "outputs": [],
   "source": [
    "disease_health_risk_merged = disease_risk.merge(right=health_risk, left_on='Local_Government_Area_Code', right_on='Local_Government_Area_Code')"
   ]
  },
  {
   "cell_type": "markdown",
   "metadata": {
    "heading_collapsed": true
   },
   "source": [
    "### cal corr"
   ]
  },
  {
   "cell_type": "code",
   "execution_count": 37,
   "metadata": {
    "ExecuteTime": {
     "end_time": "2018-05-01T10:28:14.967421Z",
     "start_time": "2018-05-01T10:28:14.873105Z"
    },
    "hidden": true
   },
   "outputs": [],
   "source": [
    "disease_health_risk_merged.drop('Local_Government_Area_Code', axis=1, inplace=True)\n"
   ]
  },
  {
   "cell_type": "code",
   "execution_count": 38,
   "metadata": {
    "ExecuteTime": {
     "end_time": "2018-05-01T10:28:15.076734Z",
     "start_time": "2018-05-01T10:28:14.971410Z"
    },
    "hidden": true
   },
   "outputs": [],
   "source": [
    "disease_health_risk_merged_calculated = disease_health_risk_merged.corr().iloc[:12, 13:]"
   ]
  },
  {
   "cell_type": "code",
   "execution_count": 39,
   "metadata": {
    "ExecuteTime": {
     "end_time": "2018-05-01T10:28:15.211545Z",
     "start_time": "2018-05-01T10:28:15.079694Z"
    },
    "hidden": true
   },
   "outputs": [
    {
     "data": {
      "text/html": [
       "<div>\n",
       "<style scoped>\n",
       "    .dataframe tbody tr th:only-of-type {\n",
       "        vertical-align: middle;\n",
       "    }\n",
       "\n",
       "    .dataframe tbody tr th {\n",
       "        vertical-align: top;\n",
       "    }\n",
       "\n",
       "    .dataframe thead th {\n",
       "        text-align: right;\n",
       "    }\n",
       "</style>\n",
       "<table border=\"1\" class=\"dataframe\">\n",
       "  <thead>\n",
       "    <tr style=\"text-align: right;\">\n",
       "      <th></th>\n",
       "      <th>Alcohol_Consumption_Persons_Aged_18_Years_and_Over</th>\n",
       "      <th>Obese_Males_18_Years_and_Over</th>\n",
       "      <th>Current_Smokers_Persons_18_Years_and_Over</th>\n",
       "      <th>Overweight_Persons_18_Years_and_Over</th>\n",
       "      <th>Overweight_Females__18_Years_and_Over</th>\n",
       "      <th>Male_Current_Smokers_18_Years_and_Over</th>\n",
       "      <th>Obese_Persons_18_Years_and_Over</th>\n",
       "      <th>Overweight_Males_18_Years_and_Over_18_Years_and_Over</th>\n",
       "      <th>High_or_Very_High_Psychological_Distress_Levels_(K-10)</th>\n",
       "      <th>GP_attendances_females</th>\n",
       "      <th>GP_attendances_males</th>\n",
       "      <th>GP_attendances_total</th>\n",
       "      <th>population_with_membership_of_organised_groups</th>\n",
       "      <th>population_with_food_insecurity</th>\n",
       "      <th>population_with_private_health_insurance</th>\n",
       "      <th>persons_that_did_not_meet_fruit_and_vegetable_guidelines</th>\n",
       "      <th>persons_who_did_not_meet_physical_activity_guidelines</th>\n",
       "    </tr>\n",
       "  </thead>\n",
       "  <tbody>\n",
       "    <tr>\n",
       "      <th>Persons_with_Mental_and_Behavioural_Problems</th>\n",
       "      <td>0.663329</td>\n",
       "      <td>0.311638</td>\n",
       "      <td>0.661204</td>\n",
       "      <td>-0.197290</td>\n",
       "      <td>0.339046</td>\n",
       "      <td>0.596965</td>\n",
       "      <td>0.401659</td>\n",
       "      <td>-0.398469</td>\n",
       "      <td>0.238052</td>\n",
       "      <td>-0.037587</td>\n",
       "      <td>-0.048897</td>\n",
       "      <td>-0.041931</td>\n",
       "      <td>0.075531</td>\n",
       "      <td>-0.036003</td>\n",
       "      <td>0.029646</td>\n",
       "      <td>0.025292</td>\n",
       "      <td>-0.111830</td>\n",
       "    </tr>\n",
       "    <tr>\n",
       "      <th>Males_with_Mental_and_Behavioural_Problems</th>\n",
       "      <td>0.432995</td>\n",
       "      <td>0.089658</td>\n",
       "      <td>0.398781</td>\n",
       "      <td>0.025559</td>\n",
       "      <td>0.258588</td>\n",
       "      <td>0.292872</td>\n",
       "      <td>0.109254</td>\n",
       "      <td>-0.093017</td>\n",
       "      <td>0.025583</td>\n",
       "      <td>-0.113486</td>\n",
       "      <td>-0.138737</td>\n",
       "      <td>-0.125914</td>\n",
       "      <td>0.092657</td>\n",
       "      <td>0.113892</td>\n",
       "      <td>-0.085055</td>\n",
       "      <td>0.039307</td>\n",
       "      <td>-0.152153</td>\n",
       "    </tr>\n",
       "    <tr>\n",
       "      <th>High_Cholesterol</th>\n",
       "      <td>0.370229</td>\n",
       "      <td>0.210461</td>\n",
       "      <td>0.288496</td>\n",
       "      <td>0.431858</td>\n",
       "      <td>0.358116</td>\n",
       "      <td>0.216313</td>\n",
       "      <td>0.136061</td>\n",
       "      <td>0.304195</td>\n",
       "      <td>-0.162605</td>\n",
       "      <td>-0.074126</td>\n",
       "      <td>-0.088977</td>\n",
       "      <td>-0.079701</td>\n",
       "      <td>0.156558</td>\n",
       "      <td>0.063089</td>\n",
       "      <td>0.004734</td>\n",
       "      <td>0.050808</td>\n",
       "      <td>-0.197653</td>\n",
       "    </tr>\n",
       "    <tr>\n",
       "      <th>Asthma</th>\n",
       "      <td>0.660822</td>\n",
       "      <td>0.646018</td>\n",
       "      <td>0.713872</td>\n",
       "      <td>0.388226</td>\n",
       "      <td>0.627615</td>\n",
       "      <td>0.604411</td>\n",
       "      <td>0.678471</td>\n",
       "      <td>0.179969</td>\n",
       "      <td>0.016089</td>\n",
       "      <td>-0.024530</td>\n",
       "      <td>-0.003557</td>\n",
       "      <td>-0.015385</td>\n",
       "      <td>0.094230</td>\n",
       "      <td>0.008086</td>\n",
       "      <td>-0.144592</td>\n",
       "      <td>0.072281</td>\n",
       "      <td>-0.255774</td>\n",
       "    </tr>\n",
       "    <tr>\n",
       "      <th>Diabetes</th>\n",
       "      <td>-0.233924</td>\n",
       "      <td>-0.124767</td>\n",
       "      <td>-0.194826</td>\n",
       "      <td>-0.412642</td>\n",
       "      <td>-0.226500</td>\n",
       "      <td>-0.046518</td>\n",
       "      <td>-0.059670</td>\n",
       "      <td>-0.387174</td>\n",
       "      <td>0.269965</td>\n",
       "      <td>0.144766</td>\n",
       "      <td>0.148071</td>\n",
       "      <td>0.148089</td>\n",
       "      <td>-0.068121</td>\n",
       "      <td>-0.180160</td>\n",
       "      <td>0.140320</td>\n",
       "      <td>0.051384</td>\n",
       "      <td>0.278353</td>\n",
       "    </tr>\n",
       "    <tr>\n",
       "      <th>Females_with_Mental_and_Behavioural_Problems</th>\n",
       "      <td>0.678241</td>\n",
       "      <td>0.421460</td>\n",
       "      <td>0.700310</td>\n",
       "      <td>-0.300230</td>\n",
       "      <td>0.318492</td>\n",
       "      <td>0.691426</td>\n",
       "      <td>0.536471</td>\n",
       "      <td>-0.522512</td>\n",
       "      <td>0.335253</td>\n",
       "      <td>0.038589</td>\n",
       "      <td>0.041825</td>\n",
       "      <td>0.042145</td>\n",
       "      <td>0.040055</td>\n",
       "      <td>-0.149068</td>\n",
       "      <td>0.112403</td>\n",
       "      <td>0.008767</td>\n",
       "      <td>-0.045638</td>\n",
       "    </tr>\n",
       "    <tr>\n",
       "      <th>Respiratory_System_Diseases</th>\n",
       "      <td>0.282283</td>\n",
       "      <td>0.329841</td>\n",
       "      <td>0.299882</td>\n",
       "      <td>0.482934</td>\n",
       "      <td>0.389394</td>\n",
       "      <td>0.200179</td>\n",
       "      <td>0.327162</td>\n",
       "      <td>0.407575</td>\n",
       "      <td>-0.079357</td>\n",
       "      <td>-0.097599</td>\n",
       "      <td>-0.124680</td>\n",
       "      <td>-0.112527</td>\n",
       "      <td>0.013784</td>\n",
       "      <td>0.231791</td>\n",
       "      <td>-0.251465</td>\n",
       "      <td>0.079028</td>\n",
       "      <td>-0.145892</td>\n",
       "    </tr>\n",
       "    <tr>\n",
       "      <th>Musculoskeletal_System_Diseases</th>\n",
       "      <td>0.821235</td>\n",
       "      <td>0.717238</td>\n",
       "      <td>0.824034</td>\n",
       "      <td>0.331906</td>\n",
       "      <td>0.693184</td>\n",
       "      <td>0.746126</td>\n",
       "      <td>0.746172</td>\n",
       "      <td>0.040513</td>\n",
       "      <td>0.093928</td>\n",
       "      <td>0.061978</td>\n",
       "      <td>0.062319</td>\n",
       "      <td>0.062251</td>\n",
       "      <td>0.017346</td>\n",
       "      <td>-0.047947</td>\n",
       "      <td>-0.155844</td>\n",
       "      <td>0.104464</td>\n",
       "      <td>-0.119890</td>\n",
       "    </tr>\n",
       "    <tr>\n",
       "      <th>Hypertension</th>\n",
       "      <td>-0.306041</td>\n",
       "      <td>-0.048403</td>\n",
       "      <td>-0.216982</td>\n",
       "      <td>-0.054474</td>\n",
       "      <td>-0.060535</td>\n",
       "      <td>-0.170003</td>\n",
       "      <td>-0.037304</td>\n",
       "      <td>-0.000867</td>\n",
       "      <td>0.168626</td>\n",
       "      <td>0.175312</td>\n",
       "      <td>0.174726</td>\n",
       "      <td>0.172875</td>\n",
       "      <td>-0.083102</td>\n",
       "      <td>-0.090149</td>\n",
       "      <td>0.113536</td>\n",
       "      <td>-0.078662</td>\n",
       "      <td>0.035314</td>\n",
       "    </tr>\n",
       "    <tr>\n",
       "      <th>Arthritis</th>\n",
       "      <td>0.838080</td>\n",
       "      <td>0.700512</td>\n",
       "      <td>0.878359</td>\n",
       "      <td>0.124237</td>\n",
       "      <td>0.584229</td>\n",
       "      <td>0.851702</td>\n",
       "      <td>0.747256</td>\n",
       "      <td>-0.170651</td>\n",
       "      <td>0.257685</td>\n",
       "      <td>0.054514</td>\n",
       "      <td>0.056828</td>\n",
       "      <td>0.057892</td>\n",
       "      <td>0.006316</td>\n",
       "      <td>-0.104115</td>\n",
       "      <td>-0.100202</td>\n",
       "      <td>0.084683</td>\n",
       "      <td>-0.021880</td>\n",
       "    </tr>\n",
       "    <tr>\n",
       "      <th>Circulatory_System_Diseases</th>\n",
       "      <td>0.719912</td>\n",
       "      <td>0.529852</td>\n",
       "      <td>0.691638</td>\n",
       "      <td>-0.093340</td>\n",
       "      <td>0.419989</td>\n",
       "      <td>0.697006</td>\n",
       "      <td>0.562168</td>\n",
       "      <td>-0.350840</td>\n",
       "      <td>0.247843</td>\n",
       "      <td>0.101786</td>\n",
       "      <td>0.112259</td>\n",
       "      <td>0.106312</td>\n",
       "      <td>0.026614</td>\n",
       "      <td>-0.081879</td>\n",
       "      <td>0.042537</td>\n",
       "      <td>0.149785</td>\n",
       "      <td>-0.046988</td>\n",
       "    </tr>\n",
       "    <tr>\n",
       "      <th>Chronic_Obstructive_Pulmonary_Disease</th>\n",
       "      <td>0.864477</td>\n",
       "      <td>0.638211</td>\n",
       "      <td>0.875808</td>\n",
       "      <td>0.152054</td>\n",
       "      <td>0.636265</td>\n",
       "      <td>0.805009</td>\n",
       "      <td>0.709773</td>\n",
       "      <td>-0.137764</td>\n",
       "      <td>0.109723</td>\n",
       "      <td>0.031367</td>\n",
       "      <td>0.045172</td>\n",
       "      <td>0.039583</td>\n",
       "      <td>0.033985</td>\n",
       "      <td>-0.008795</td>\n",
       "      <td>-0.053545</td>\n",
       "      <td>0.116055</td>\n",
       "      <td>-0.166937</td>\n",
       "    </tr>\n",
       "  </tbody>\n",
       "</table>\n",
       "</div>"
      ],
      "text/plain": [
       "                                              Alcohol_Consumption_Persons_Aged_18_Years_and_Over  \\\n",
       "Persons_with_Mental_and_Behavioural_Problems                                           0.663329    \n",
       "Males_with_Mental_and_Behavioural_Problems                                             0.432995    \n",
       "High_Cholesterol                                                                       0.370229    \n",
       "Asthma                                                                                 0.660822    \n",
       "Diabetes                                                                              -0.233924    \n",
       "Females_with_Mental_and_Behavioural_Problems                                           0.678241    \n",
       "Respiratory_System_Diseases                                                            0.282283    \n",
       "Musculoskeletal_System_Diseases                                                        0.821235    \n",
       "Hypertension                                                                          -0.306041    \n",
       "Arthritis                                                                              0.838080    \n",
       "Circulatory_System_Diseases                                                            0.719912    \n",
       "Chronic_Obstructive_Pulmonary_Disease                                                  0.864477    \n",
       "\n",
       "                                              Obese_Males_18_Years_and_Over  \\\n",
       "Persons_with_Mental_and_Behavioural_Problems                       0.311638   \n",
       "Males_with_Mental_and_Behavioural_Problems                         0.089658   \n",
       "High_Cholesterol                                                   0.210461   \n",
       "Asthma                                                             0.646018   \n",
       "Diabetes                                                          -0.124767   \n",
       "Females_with_Mental_and_Behavioural_Problems                       0.421460   \n",
       "Respiratory_System_Diseases                                        0.329841   \n",
       "Musculoskeletal_System_Diseases                                    0.717238   \n",
       "Hypertension                                                      -0.048403   \n",
       "Arthritis                                                          0.700512   \n",
       "Circulatory_System_Diseases                                        0.529852   \n",
       "Chronic_Obstructive_Pulmonary_Disease                              0.638211   \n",
       "\n",
       "                                              Current_Smokers_Persons_18_Years_and_Over  \\\n",
       "Persons_with_Mental_and_Behavioural_Problems                                   0.661204   \n",
       "Males_with_Mental_and_Behavioural_Problems                                     0.398781   \n",
       "High_Cholesterol                                                               0.288496   \n",
       "Asthma                                                                         0.713872   \n",
       "Diabetes                                                                      -0.194826   \n",
       "Females_with_Mental_and_Behavioural_Problems                                   0.700310   \n",
       "Respiratory_System_Diseases                                                    0.299882   \n",
       "Musculoskeletal_System_Diseases                                                0.824034   \n",
       "Hypertension                                                                  -0.216982   \n",
       "Arthritis                                                                      0.878359   \n",
       "Circulatory_System_Diseases                                                    0.691638   \n",
       "Chronic_Obstructive_Pulmonary_Disease                                          0.875808   \n",
       "\n",
       "                                              Overweight_Persons_18_Years_and_Over  \\\n",
       "Persons_with_Mental_and_Behavioural_Problems                             -0.197290   \n",
       "Males_with_Mental_and_Behavioural_Problems                                0.025559   \n",
       "High_Cholesterol                                                          0.431858   \n",
       "Asthma                                                                    0.388226   \n",
       "Diabetes                                                                 -0.412642   \n",
       "Females_with_Mental_and_Behavioural_Problems                             -0.300230   \n",
       "Respiratory_System_Diseases                                               0.482934   \n",
       "Musculoskeletal_System_Diseases                                           0.331906   \n",
       "Hypertension                                                             -0.054474   \n",
       "Arthritis                                                                 0.124237   \n",
       "Circulatory_System_Diseases                                              -0.093340   \n",
       "Chronic_Obstructive_Pulmonary_Disease                                     0.152054   \n",
       "\n",
       "                                              Overweight_Females__18_Years_and_Over  \\\n",
       "Persons_with_Mental_and_Behavioural_Problems                               0.339046   \n",
       "Males_with_Mental_and_Behavioural_Problems                                 0.258588   \n",
       "High_Cholesterol                                                           0.358116   \n",
       "Asthma                                                                     0.627615   \n",
       "Diabetes                                                                  -0.226500   \n",
       "Females_with_Mental_and_Behavioural_Problems                               0.318492   \n",
       "Respiratory_System_Diseases                                                0.389394   \n",
       "Musculoskeletal_System_Diseases                                            0.693184   \n",
       "Hypertension                                                              -0.060535   \n",
       "Arthritis                                                                  0.584229   \n",
       "Circulatory_System_Diseases                                                0.419989   \n",
       "Chronic_Obstructive_Pulmonary_Disease                                      0.636265   \n",
       "\n",
       "                                              Male_Current_Smokers_18_Years_and_Over  \\\n",
       "Persons_with_Mental_and_Behavioural_Problems                                0.596965   \n",
       "Males_with_Mental_and_Behavioural_Problems                                  0.292872   \n",
       "High_Cholesterol                                                            0.216313   \n",
       "Asthma                                                                      0.604411   \n",
       "Diabetes                                                                   -0.046518   \n",
       "Females_with_Mental_and_Behavioural_Problems                                0.691426   \n",
       "Respiratory_System_Diseases                                                 0.200179   \n",
       "Musculoskeletal_System_Diseases                                             0.746126   \n",
       "Hypertension                                                               -0.170003   \n",
       "Arthritis                                                                   0.851702   \n",
       "Circulatory_System_Diseases                                                 0.697006   \n",
       "Chronic_Obstructive_Pulmonary_Disease                                       0.805009   \n",
       "\n",
       "                                              Obese_Persons_18_Years_and_Over  \\\n",
       "Persons_with_Mental_and_Behavioural_Problems                         0.401659   \n",
       "Males_with_Mental_and_Behavioural_Problems                           0.109254   \n",
       "High_Cholesterol                                                     0.136061   \n",
       "Asthma                                                               0.678471   \n",
       "Diabetes                                                            -0.059670   \n",
       "Females_with_Mental_and_Behavioural_Problems                         0.536471   \n",
       "Respiratory_System_Diseases                                          0.327162   \n",
       "Musculoskeletal_System_Diseases                                      0.746172   \n",
       "Hypertension                                                        -0.037304   \n",
       "Arthritis                                                            0.747256   \n",
       "Circulatory_System_Diseases                                          0.562168   \n",
       "Chronic_Obstructive_Pulmonary_Disease                                0.709773   \n",
       "\n",
       "                                              Overweight_Males_18_Years_and_Over_18_Years_and_Over  \\\n",
       "Persons_with_Mental_and_Behavioural_Problems                                          -0.398469      \n",
       "Males_with_Mental_and_Behavioural_Problems                                            -0.093017      \n",
       "High_Cholesterol                                                                       0.304195      \n",
       "Asthma                                                                                 0.179969      \n",
       "Diabetes                                                                              -0.387174      \n",
       "Females_with_Mental_and_Behavioural_Problems                                          -0.522512      \n",
       "Respiratory_System_Diseases                                                            0.407575      \n",
       "Musculoskeletal_System_Diseases                                                        0.040513      \n",
       "Hypertension                                                                          -0.000867      \n",
       "Arthritis                                                                             -0.170651      \n",
       "Circulatory_System_Diseases                                                           -0.350840      \n",
       "Chronic_Obstructive_Pulmonary_Disease                                                 -0.137764      \n",
       "\n",
       "                                              High_or_Very_High_Psychological_Distress_Levels_(K-10)  \\\n",
       "Persons_with_Mental_and_Behavioural_Problems                                           0.238052        \n",
       "Males_with_Mental_and_Behavioural_Problems                                             0.025583        \n",
       "High_Cholesterol                                                                      -0.162605        \n",
       "Asthma                                                                                 0.016089        \n",
       "Diabetes                                                                               0.269965        \n",
       "Females_with_Mental_and_Behavioural_Problems                                           0.335253        \n",
       "Respiratory_System_Diseases                                                           -0.079357        \n",
       "Musculoskeletal_System_Diseases                                                        0.093928        \n",
       "Hypertension                                                                           0.168626        \n",
       "Arthritis                                                                              0.257685        \n",
       "Circulatory_System_Diseases                                                            0.247843        \n",
       "Chronic_Obstructive_Pulmonary_Disease                                                  0.109723        \n",
       "\n",
       "                                              GP_attendances_females  \\\n",
       "Persons_with_Mental_and_Behavioural_Problems               -0.037587   \n",
       "Males_with_Mental_and_Behavioural_Problems                 -0.113486   \n",
       "High_Cholesterol                                           -0.074126   \n",
       "Asthma                                                     -0.024530   \n",
       "Diabetes                                                    0.144766   \n",
       "Females_with_Mental_and_Behavioural_Problems                0.038589   \n",
       "Respiratory_System_Diseases                                -0.097599   \n",
       "Musculoskeletal_System_Diseases                             0.061978   \n",
       "Hypertension                                                0.175312   \n",
       "Arthritis                                                   0.054514   \n",
       "Circulatory_System_Diseases                                 0.101786   \n",
       "Chronic_Obstructive_Pulmonary_Disease                       0.031367   \n",
       "\n",
       "                                              GP_attendances_males  \\\n",
       "Persons_with_Mental_and_Behavioural_Problems             -0.048897   \n",
       "Males_with_Mental_and_Behavioural_Problems               -0.138737   \n",
       "High_Cholesterol                                         -0.088977   \n",
       "Asthma                                                   -0.003557   \n",
       "Diabetes                                                  0.148071   \n",
       "Females_with_Mental_and_Behavioural_Problems              0.041825   \n",
       "Respiratory_System_Diseases                              -0.124680   \n",
       "Musculoskeletal_System_Diseases                           0.062319   \n",
       "Hypertension                                              0.174726   \n",
       "Arthritis                                                 0.056828   \n",
       "Circulatory_System_Diseases                               0.112259   \n",
       "Chronic_Obstructive_Pulmonary_Disease                     0.045172   \n",
       "\n",
       "                                              GP_attendances_total  \\\n",
       "Persons_with_Mental_and_Behavioural_Problems             -0.041931   \n",
       "Males_with_Mental_and_Behavioural_Problems               -0.125914   \n",
       "High_Cholesterol                                         -0.079701   \n",
       "Asthma                                                   -0.015385   \n",
       "Diabetes                                                  0.148089   \n",
       "Females_with_Mental_and_Behavioural_Problems              0.042145   \n",
       "Respiratory_System_Diseases                              -0.112527   \n",
       "Musculoskeletal_System_Diseases                           0.062251   \n",
       "Hypertension                                              0.172875   \n",
       "Arthritis                                                 0.057892   \n",
       "Circulatory_System_Diseases                               0.106312   \n",
       "Chronic_Obstructive_Pulmonary_Disease                     0.039583   \n",
       "\n",
       "                                              population_with_membership_of_organised_groups  \\\n",
       "Persons_with_Mental_and_Behavioural_Problems                                        0.075531   \n",
       "Males_with_Mental_and_Behavioural_Problems                                          0.092657   \n",
       "High_Cholesterol                                                                    0.156558   \n",
       "Asthma                                                                              0.094230   \n",
       "Diabetes                                                                           -0.068121   \n",
       "Females_with_Mental_and_Behavioural_Problems                                        0.040055   \n",
       "Respiratory_System_Diseases                                                         0.013784   \n",
       "Musculoskeletal_System_Diseases                                                     0.017346   \n",
       "Hypertension                                                                       -0.083102   \n",
       "Arthritis                                                                           0.006316   \n",
       "Circulatory_System_Diseases                                                         0.026614   \n",
       "Chronic_Obstructive_Pulmonary_Disease                                               0.033985   \n",
       "\n",
       "                                              population_with_food_insecurity  \\\n",
       "Persons_with_Mental_and_Behavioural_Problems                        -0.036003   \n",
       "Males_with_Mental_and_Behavioural_Problems                           0.113892   \n",
       "High_Cholesterol                                                     0.063089   \n",
       "Asthma                                                               0.008086   \n",
       "Diabetes                                                            -0.180160   \n",
       "Females_with_Mental_and_Behavioural_Problems                        -0.149068   \n",
       "Respiratory_System_Diseases                                          0.231791   \n",
       "Musculoskeletal_System_Diseases                                     -0.047947   \n",
       "Hypertension                                                        -0.090149   \n",
       "Arthritis                                                           -0.104115   \n",
       "Circulatory_System_Diseases                                         -0.081879   \n",
       "Chronic_Obstructive_Pulmonary_Disease                               -0.008795   \n",
       "\n",
       "                                              population_with_private_health_insurance  \\\n",
       "Persons_with_Mental_and_Behavioural_Problems                                  0.029646   \n",
       "Males_with_Mental_and_Behavioural_Problems                                   -0.085055   \n",
       "High_Cholesterol                                                              0.004734   \n",
       "Asthma                                                                       -0.144592   \n",
       "Diabetes                                                                      0.140320   \n",
       "Females_with_Mental_and_Behavioural_Problems                                  0.112403   \n",
       "Respiratory_System_Diseases                                                  -0.251465   \n",
       "Musculoskeletal_System_Diseases                                              -0.155844   \n",
       "Hypertension                                                                  0.113536   \n",
       "Arthritis                                                                    -0.100202   \n",
       "Circulatory_System_Diseases                                                   0.042537   \n",
       "Chronic_Obstructive_Pulmonary_Disease                                        -0.053545   \n",
       "\n",
       "                                              persons_that_did_not_meet_fruit_and_vegetable_guidelines  \\\n",
       "Persons_with_Mental_and_Behavioural_Problems                                           0.025292          \n",
       "Males_with_Mental_and_Behavioural_Problems                                             0.039307          \n",
       "High_Cholesterol                                                                       0.050808          \n",
       "Asthma                                                                                 0.072281          \n",
       "Diabetes                                                                               0.051384          \n",
       "Females_with_Mental_and_Behavioural_Problems                                           0.008767          \n",
       "Respiratory_System_Diseases                                                            0.079028          \n",
       "Musculoskeletal_System_Diseases                                                        0.104464          \n",
       "Hypertension                                                                          -0.078662          \n",
       "Arthritis                                                                              0.084683          \n",
       "Circulatory_System_Diseases                                                            0.149785          \n",
       "Chronic_Obstructive_Pulmonary_Disease                                                  0.116055          \n",
       "\n",
       "                                              persons_who_did_not_meet_physical_activity_guidelines  \n",
       "Persons_with_Mental_and_Behavioural_Problems                                          -0.111830      \n",
       "Males_with_Mental_and_Behavioural_Problems                                            -0.152153      \n",
       "High_Cholesterol                                                                      -0.197653      \n",
       "Asthma                                                                                -0.255774      \n",
       "Diabetes                                                                               0.278353      \n",
       "Females_with_Mental_and_Behavioural_Problems                                          -0.045638      \n",
       "Respiratory_System_Diseases                                                           -0.145892      \n",
       "Musculoskeletal_System_Diseases                                                       -0.119890      \n",
       "Hypertension                                                                           0.035314      \n",
       "Arthritis                                                                             -0.021880      \n",
       "Circulatory_System_Diseases                                                           -0.046988      \n",
       "Chronic_Obstructive_Pulmonary_Disease                                                 -0.166937      "
      ]
     },
     "execution_count": 39,
     "metadata": {},
     "output_type": "execute_result"
    }
   ],
   "source": [
    "disease_health_risk_merged_calculated"
   ]
  },
  {
   "cell_type": "markdown",
   "metadata": {
    "ExecuteTime": {
     "end_time": "2018-04-22T13:44:39.092648Z",
     "start_time": "2018-04-22T13:44:39.090143Z"
    },
    "heading_collapsed": true
   },
   "source": [
    "### heat map"
   ]
  },
  {
   "cell_type": "code",
   "execution_count": 40,
   "metadata": {
    "ExecuteTime": {
     "end_time": "2018-05-01T10:28:15.782562Z",
     "start_time": "2018-05-01T10:28:15.213550Z"
    },
    "hidden": true
   },
   "outputs": [
    {
     "data": {
      "image/png": "[encoded data removed]",
      "text/plain": [
       "<matplotlib.figure.Figure at 0x135c51f0>"
      ]
     },
     "metadata": {},
     "output_type": "display_data"
    }
   ],
   "source": [
    "plt.figure()\n",
    "sns.heatmap(disease_health_risk_merged_calculated, linewidths=.5)\n",
    "save = \"plot/disease_risk_health_risk_heat_map.png\"\n",
    "plt.savefig(save)\n",
    "plt.show()"
   ]
  },
  {
   "cell_type": "markdown",
   "metadata": {
    "ExecuteTime": {
     "end_time": "2018-04-22T13:50:01.525410Z",
     "start_time": "2018-04-22T13:50:01.522403Z"
    }
   },
   "source": [
    "## health risk & community feature"
   ]
  },
  {
   "cell_type": "code",
   "execution_count": 41,
   "metadata": {
    "ExecuteTime": {
     "end_time": "2018-05-01T10:28:15.820666Z",
     "start_time": "2018-05-01T10:28:15.815179Z"
    }
   },
   "outputs": [],
   "source": [
    "health_risk_merged = disease_risk.merge(right=health_risk, left_on='Local_Government_Area_Code', right_on='Local_Government_Area_Code')"
   ]
  },
  {
   "cell_type": "markdown",
   "metadata": {
    "heading_collapsed": true
   },
   "source": [
    "### cal corr"
   ]
  },
  {
   "cell_type": "code",
   "execution_count": 42,
   "metadata": {
    "ExecuteTime": {
     "end_time": "2018-05-01T10:28:15.933982Z",
     "start_time": "2018-05-01T10:28:15.823171Z"
    },
    "hidden": true
   },
   "outputs": [],
   "source": [
    "# disease_health_risk_merged.drop('Local_Government_Area_Code', axis=1, inplace=True)\n"
   ]
  },
  {
   "cell_type": "code",
   "execution_count": 43,
   "metadata": {
    "ExecuteTime": {
     "end_time": "2018-05-01T10:28:16.095355Z",
     "start_time": "2018-05-01T10:28:15.935956Z"
    },
    "hidden": true
   },
   "outputs": [],
   "source": [
    "disease_health_risk_merged_calculated = disease_health_risk_merged.corr().iloc[:12, 13:]"
   ]
  },
  {
   "cell_type": "markdown",
   "metadata": {
    "ExecuteTime": {
     "end_time": "2018-04-22T13:44:39.092648Z",
     "start_time": "2018-04-22T13:44:39.090143Z"
    },
    "heading_collapsed": true
   },
   "source": [
    "### heat map"
   ]
  },
  {
   "cell_type": "code",
   "execution_count": 44,
   "metadata": {
    "ExecuteTime": {
     "end_time": "2018-05-01T10:28:16.565936Z",
     "start_time": "2018-05-01T10:28:16.097361Z"
    },
    "hidden": true
   },
   "outputs": [
    {
     "data": {
      "image/png": "[encoded data removed]",
      "text/plain": [
       "<matplotlib.figure.Figure at 0x1469b770>"
      ]
     },
     "metadata": {},
     "output_type": "display_data"
    }
   ],
   "source": [
    "sns.heatmap(disease_health_risk_merged_calculated)\n",
    "plt.show()"
   ]
  },
  {
   "cell_type": "code",
   "execution_count": null,
   "metadata": {
    "hidden": true
   },
   "outputs": [],
   "source": []
  },
  {
   "cell_type": "code",
   "execution_count": null,
   "metadata": {
    "hidden": true
   },
   "outputs": [],
   "source": []
  },
  {
   "cell_type": "code",
   "execution_count": null,
   "metadata": {
    "hidden": true
   },
   "outputs": [],
   "source": []
  },
  {
   "cell_type": "markdown",
   "metadata": {},
   "source": [
    "# linear regression"
   ]
  },
  {
   "cell_type": "markdown",
   "metadata": {
    "heading_collapsed": true
   },
   "source": [
    "## regression function"
   ]
  },
  {
   "cell_type": "code",
   "execution_count": 45,
   "metadata": {
    "ExecuteTime": {
     "end_time": "2018-05-01T10:28:16.579445Z",
     "start_time": "2018-05-01T10:28:16.567413Z"
    },
    "hidden": true
   },
   "outputs": [],
   "source": [
    "from sklearn.linear_model import LinearRegression\n",
    "# matplotlib.use('qt5agg')\n",
    "def linear_regression(table, xcol, ycol, xaxis=\"\", yaxis=\"\",title=\"\"):\n",
    "    x = table[xcol]\n",
    "    y = table[ycol]\n",
    "#     fig, ax = plt.subplots()\n",
    "#     fit = np.polyfit(x, y, deg=1)\n",
    "#     ax.plot(x, fit[0] * x + fit[1], color='red')\n",
    "#     ax.scatter(x, y)\n",
    "    sns.regplot(x=x, y=y, marker=\"+\")\n",
    "    plt.xlabel(xaxis)\n",
    "    plt.ylabel(yaxis)\n",
    "    plt.title(title)\n",
    "    plt.savefig(\"plot/\"+title+\".png\")\n",
    "    plt.show()"
   ]
  },
  {
   "cell_type": "markdown",
   "metadata": {
    "heading_collapsed": true
   },
   "source": [
    "## drinking alcohol and circulatory system disease"
   ]
  },
  {
   "cell_type": "code",
   "execution_count": 46,
   "metadata": {
    "ExecuteTime": {
     "end_time": "2018-05-01T10:28:16.930079Z",
     "start_time": "2018-05-01T10:28:16.581961Z"
    },
    "hidden": true
   },
   "outputs": [
    {
     "data": {
      "image/png": "[encoded data removed]",
      "text/plain": [
       "<matplotlib.figure.Figure at 0x14f36d70>"
      ]
     },
     "metadata": {},
     "output_type": "display_data"
    }
   ],
   "source": [
    "linear_regression(disease_health_risk_merged, 'Alcohol_Consumption_Persons_Aged_18_Years_and_Over', 'Circulatory_System_Diseases',\n",
    "                 \"Alcohol_Consumption_Persons_Aged_18_Years_and_Over_percentage\", \"Circulatory_System_Diseases_risk\",\n",
    "                  \"line regression with corr=0.72\")\n"
   ]
  },
  {
   "cell_type": "markdown",
   "metadata": {
    "heading_collapsed": true
   },
   "source": [
    "## percentage of obese adults & musculoskeletal system diseases risk"
   ]
  },
  {
   "cell_type": "code",
   "execution_count": 47,
   "metadata": {
    "ExecuteTime": {
     "end_time": "2018-05-01T10:28:17.200191Z",
     "start_time": "2018-05-01T10:28:16.932080Z"
    },
    "hidden": true
   },
   "outputs": [
    {
     "data": {
      "image/png": "[encoded data removed]",
      "text/plain": [
       "<matplotlib.figure.Figure at 0x146e2270>"
      ]
     },
     "metadata": {},
     "output_type": "display_data"
    }
   ],
   "source": [
    "linear_regression(disease_health_risk_merged, 'Obese_Persons_18_Years_and_Over', 'Musculoskeletal_System_Diseases',\n",
    "                 \"Obese_Persons_18_Years_and_Over_percentage\", 'Musculoskeletal_System_Diseases_risk',\n",
    "                  \"line regression with correlation=0.72\")"
   ]
  },
  {
   "cell_type": "markdown",
   "metadata": {
    "heading_collapsed": true
   },
   "source": [
    "## percentage of obese adults & arthritis"
   ]
  },
  {
   "cell_type": "code",
   "execution_count": 48,
   "metadata": {
    "ExecuteTime": {
     "end_time": "2018-05-01T10:28:17.495476Z",
     "start_time": "2018-05-01T10:28:17.202725Z"
    },
    "hidden": true
   },
   "outputs": [
    {
     "data": {
      "image/png": "[encoded data removed]",
      "text/plain": [
       "<matplotlib.figure.Figure at 0x150edb70>"
      ]
     },
     "metadata": {},
     "output_type": "display_data"
    }
   ],
   "source": [
    "linear_regression(disease_health_risk_merged, 'Obese_Persons_18_Years_and_Over', 'Arthritis',\n",
    "                 \"Obese_Persons_18_Years_and_Over_percentage\", \"Arthritis_risk\",\n",
    "                  \"line regression with corr=0.70\")"
   ]
  },
  {
   "cell_type": "markdown",
   "metadata": {
    "heading_collapsed": true
   },
   "source": [
    "## percentage of adult smokers & asthma risk"
   ]
  },
  {
   "cell_type": "code",
   "execution_count": 49,
   "metadata": {
    "ExecuteTime": {
     "end_time": "2018-05-01T10:28:17.749150Z",
     "start_time": "2018-05-01T10:28:17.496980Z"
    },
    "hidden": true
   },
   "outputs": [
    {
     "data": {
      "image/png": "[encoded data removed]",
      "text/plain": [
       "<matplotlib.figure.Figure at 0x15113df0>"
      ]
     },
     "metadata": {},
     "output_type": "display_data"
    }
   ],
   "source": [
    "linear_regression(disease_health_risk_merged, 'Current_Smokers_Persons_18_Years_and_Over', 'Asthma',\n",
    "                 'Current_Smokers_Persons_18_Years_and_Over', \"Asthma_risk\",\n",
    "                  \"line regression with corr=0.71\")"
   ]
  },
  {
   "cell_type": "markdown",
   "metadata": {
    "heading_collapsed": true
   },
   "source": [
    "## percentage of adult smokers & chronic obstructive pulmonary disease"
   ]
  },
  {
   "cell_type": "code",
   "execution_count": 50,
   "metadata": {
    "ExecuteTime": {
     "end_time": "2018-05-01T10:28:17.999343Z",
     "start_time": "2018-05-01T10:28:17.751157Z"
    },
    "hidden": true
   },
   "outputs": [
    {
     "data": {
      "image/png": "[encoded data removed]",
      "text/plain": [
       "<matplotlib.figure.Figure at 0x151b22b0>"
      ]
     },
     "metadata": {},
     "output_type": "display_data"
    }
   ],
   "source": [
    "linear_regression(disease_health_risk_merged, 'Current_Smokers_Persons_18_Years_and_Over', 'Chronic_Obstructive_Pulmonary_Disease',\n",
    "                 'Current_Smokers_Persons_18_Years_and_Over', 'Chronic_Obstructive_Pulmonary_risk',\n",
    "                  \"line regression with corr=0.88\")"
   ]
  },
  {
   "cell_type": "markdown",
   "metadata": {},
   "source": [
    "# community feature analysis"
   ]
  },
  {
   "cell_type": "markdown",
   "metadata": {},
   "source": [
    "## group by metro/rural"
   ]
  },
  {
   "cell_type": "code",
   "execution_count": 51,
   "metadata": {
    "ExecuteTime": {
     "end_time": "2018-05-01T10:28:18.005332Z",
     "start_time": "2018-05-01T10:28:18.000821Z"
    }
   },
   "outputs": [
    {
     "data": {
      "text/plain": [
       "['Alcohol_Consumption_Persons_Aged_18_Years_and_Over',\n",
       " 'Current_Smokers_Persons_18_Years_and_Over',\n",
       " 'Female_Current_Smokers_18_Years_and_Over',\n",
       " 'GP_attendances_females',\n",
       " 'GP_attendances_males',\n",
       " 'GP_attendances_total',\n",
       " 'High_or_Very_High_Psychological_Distress_Levels_(K-10)',\n",
       " 'Local_Government_Area_Code',\n",
       " 'Male_Current_Smokers_18_Years_and_Over',\n",
       " 'Obese_Males_18_Years_and_Over',\n",
       " 'Obese_Persons_18_Years_and_Over',\n",
       " 'Overweight_Females__18_Years_and_Over',\n",
       " 'Overweight_Males_18_Years_and_Over_18_Years_and_Over',\n",
       " 'Overweight_Persons_18_Years_and_Over',\n",
       " 'persons_that_did_not_meet_fruit_and_vegetable_guidelines',\n",
       " 'persons_who_did_not_meet_physical_activity_guidelines',\n",
       " 'population_with_food_insecurity',\n",
       " 'population_with_membership_of_organised_groups',\n",
       " 'population_with_private_health_insurance']"
      ]
     },
     "execution_count": 51,
     "metadata": {},
     "output_type": "execute_result"
    }
   ],
   "source": [
    "# local_governement\n",
    "sorted(list(health_risk.columns))"
   ]
  },
  {
   "cell_type": "code",
   "execution_count": 52,
   "metadata": {
    "ExecuteTime": {
     "end_time": "2018-05-01T10:28:18.098113Z",
     "start_time": "2018-05-01T10:28:18.007339Z"
    }
   },
   "outputs": [],
   "source": [
    "# area_merged = health_risk.merge(right=lga_profile, left_on='Local_Government_Area_Code', right_on='Local_Government_Area_Code')"
   ]
  },
  {
   "cell_type": "markdown",
   "metadata": {},
   "source": [
    "### parallel coordinates"
   ]
  },
  {
   "cell_type": "code",
   "execution_count": 53,
   "metadata": {
    "ExecuteTime": {
     "end_time": "2018-05-01T10:28:18.204358Z",
     "start_time": "2018-05-01T10:28:18.100593Z"
    },
    "scrolled": true
   },
   "outputs": [],
   "source": [
    "# # lga_grouped = area_merged.groupby(\"type\")\n",
    "# plt.figure(figsize=[8,8])\n",
    "\n",
    "# pc_plot(area_merged[['Alcohol_Consumption_Persons_Aged_18_Years_and_Over',\n",
    "#                     'Current_Smokers_Persons_18_Years_and_Over',\n",
    "#                     'Obese_Persons_18_Years_and_Over',\n",
    "#                     'Metro/rural']], 'Metro/rural')\n",
    "# # , color = ['r', 'b', 'g', 'a']\n",
    "# plt.show()"
   ]
  },
  {
   "cell_type": "markdown",
   "metadata": {
    "heading_collapsed": true
   },
   "source": [
    "### principle coordinates"
   ]
  },
  {
   "cell_type": "code",
   "execution_count": 54,
   "metadata": {
    "ExecuteTime": {
     "end_time": "2018-05-01T10:28:18.309556Z",
     "start_time": "2018-05-01T10:28:18.206363Z"
    },
    "hidden": true
   },
   "outputs": [],
   "source": [
    "# selected_health_risk = area_merged[['Alcohol_Consumption_Persons_Aged_18_Years_and_Over',\n",
    "#                                     'Current_Smokers_Persons_18_Years_and_Over',\n",
    "#                                     'Obese_Persons_18_Years_and_Over']]\n",
    "# health_risk_all = df()\n",
    "# sklearn_pca = sklearnPCA(n_components=1)   \n",
    "# health_risk_sklearn = sklearn_pca.fit_transform(selected_health_risk)\n",
    "# # health_risk_all['label'] = area_merged[\"type\"]\n",
    "# health_risk_all['label'] = lga_profile['Metro/rural']\n",
    "\n",
    "# # define color palette\n",
    "# palette = ['violet','yellow']\n",
    "\n",
    "\n",
    "# # take first column and replace labels with colors, return a list\n",
    "# colors = health_risk_all.label.replace(to_replace=health_risk_all.label.unique(), value=palette).tolist()\n",
    "\n",
    "# print(\"Variance explained by each PC\", sklearn_pca.explained_variance_ratio_)\n",
    "# plt.scatter(health_risk_sklearn[:,0], health_risk_sklearn[:,1], s=60,c=colors)\n",
    "# plt.show()"
   ]
  },
  {
   "cell_type": "markdown",
   "metadata": {
    "heading_collapsed": true
   },
   "source": [
    "### k-means for smoker and Chronic_Obstructive_Pulmonary_Disease"
   ]
  },
  {
   "cell_type": "code",
   "execution_count": 55,
   "metadata": {
    "ExecuteTime": {
     "end_time": "2018-05-01T10:28:18.393996Z",
     "start_time": "2018-05-01T10:28:18.311018Z"
    },
    "hidden": true
   },
   "outputs": [],
   "source": [
    "# linear_regression(disease_health_risk_merged, 'Current_Smokers_Persons_18_Years_and_Over', 'Chronic_Obstructive_Pulmonary_Disease',\n",
    "#                  'Current_Smokers_Persons_18_Years_and_Over', 'Chronic_Obstructive_Pulmonary_risk',\n",
    "#                   \"line regression with corr=0.88\")"
   ]
  },
  {
   "cell_type": "code",
   "execution_count": 56,
   "metadata": {
    "ExecuteTime": {
     "end_time": "2018-05-01T10:28:18.499797Z",
     "start_time": "2018-05-01T10:28:18.396000Z"
    },
    "hidden": true
   },
   "outputs": [],
   "source": [
    "# select = disease_health_risk_merged[['Chronic_Obstructive_Pulmonary_Disease', 'Current_Smokers_Persons_18_Years_and_Over']]"
   ]
  },
  {
   "cell_type": "code",
   "execution_count": 57,
   "metadata": {
    "ExecuteTime": {
     "end_time": "2018-05-01T10:28:18.644682Z",
     "start_time": "2018-05-01T10:28:18.501803Z"
    },
    "hidden": true
   },
   "outputs": [],
   "source": [
    "# num_clusters = 2\n",
    "\n",
    "# y_pred = KMeans(n_clusters=num_clusters).fit_predict(select)"
   ]
  },
  {
   "cell_type": "code",
   "execution_count": 58,
   "metadata": {
    "ExecuteTime": {
     "end_time": "2018-05-01T10:28:18.769466Z",
     "start_time": "2018-05-01T10:28:18.646720Z"
    },
    "hidden": true
   },
   "outputs": [],
   "source": [
    "# select[\"cluster\"] = 0 # cluster '1': low smoking '0': high smoking\n",
    "\n",
    "# plt.scatter(select.iloc[:, 1], select.iloc[:, 0], c=y_pred)\n",
    "# plt.ylim([0.015, 0.023])\n",
    "\n",
    "# for i, value in enumerate(y_pred):\n",
    "#     select.loc[i, \"cluster\"] = value\n",
    "\n",
    "# for i, grouped in select.groupby(\"cluster\"):\n",
    "#     x_mean = grouped.iloc[:, 1].median()\n",
    "#     y_mean = grouped.iloc[:, 0].median()\n",
    "#     plt.scatter(x_mean, y_mean, marker = '*')\n",
    "\n",
    "# plt.xlabel(\"Current_Smokers_Persons_18_Years_and_Over\")\n",
    "# plt.ylabel('Chronic_Obstructive_Pulmonary_Disease')\n",
    "# plt.show()"
   ]
  },
  {
   "cell_type": "markdown",
   "metadata": {},
   "source": [
    "### cluster analysis"
   ]
  },
  {
   "cell_type": "code",
   "execution_count": 59,
   "metadata": {
    "ExecuteTime": {
     "end_time": "2018-05-01T10:28:18.873242Z",
     "start_time": "2018-05-01T10:28:18.771472Z"
    }
   },
   "outputs": [],
   "source": [
    "# select['Local_Government_Area_Code'] = lga_profile['Local_Government_Area_Code']"
   ]
  },
  {
   "cell_type": "code",
   "execution_count": 60,
   "metadata": {
    "ExecuteTime": {
     "end_time": "2018-05-01T10:28:18.980687Z",
     "start_time": "2018-05-01T10:28:18.875247Z"
    }
   },
   "outputs": [],
   "source": [
    "# community_feature = lga_profile[['Unemployment_rate',\n",
    "#                                 '%Born_overseas',\n",
    "#                                 'Local_Government_Area_Code']]\n",
    "# community_feature['Unemployment_rate'] = community_feature['Unemployment_rate'] / 100\n",
    "# community_feature[\"high_mental_pressure\"] = health_risk[\"High_or_Very_High_Psychological_Distress_Levels_(K-10)\"]"
   ]
  },
  {
   "cell_type": "code",
   "execution_count": 61,
   "metadata": {
    "ExecuteTime": {
     "end_time": "2018-05-01T10:28:19.063916Z",
     "start_time": "2018-05-01T10:28:18.983216Z"
    }
   },
   "outputs": [],
   "source": [
    "# feature_cluster_merged = community_feature.merge(right=select, left_on='Local_Government_Area_Code', right_on='Local_Government_Area_Code')"
   ]
  },
  {
   "cell_type": "code",
   "execution_count": 62,
   "metadata": {
    "ExecuteTime": {
     "end_time": "2018-05-01T10:28:19.175205Z",
     "start_time": "2018-05-01T10:28:19.066921Z"
    },
    "scrolled": true
   },
   "outputs": [],
   "source": [
    "# community_feature[\"cluster\"] = y_pred"
   ]
  },
  {
   "cell_type": "code",
   "execution_count": 63,
   "metadata": {
    "ExecuteTime": {
     "end_time": "2018-05-01T10:28:19.277978Z",
     "start_time": "2018-05-01T10:28:19.176709Z"
    }
   },
   "outputs": [],
   "source": [
    "# y_value=[]\n",
    "# legend = []\n",
    "\n",
    "# x = {string:i for i, string in enumerate(group.columns)}\n",
    "# mean = df()\n",
    "\n",
    "# for i, group in community_feature.groupby(\"cluster\"):\n",
    "#     for string in group.columns:\n",
    "#         if string not in ['Local_Government_Area_Code', 'cluster']:\n",
    "# #             plt.bar(x=x[string], height=group[string].mean())\n",
    "#             mean.loc[i, string+\"_mean\"] = group[string].mean()\n",
    "# mean.transpose().plot(kind=\"bar\")\n",
    "# plt.legend([\"high risk cluster\", \"low risk cluster\"])\n",
    "# plt.show()"
   ]
  },
  {
   "cell_type": "code",
   "execution_count": 64,
   "metadata": {
    "ExecuteTime": {
     "end_time": "2018-05-01T10:28:19.382133Z",
     "start_time": "2018-05-01T10:28:19.279483Z"
    }
   },
   "outputs": [],
   "source": [
    "# for string in mean.columns:\n",
    "#     for x in mean.index:\n",
    "#         plt.bar(x, mean.loc[x, string])\n",
    "#     plt.legend([\"high risk cluster\", \"low risk cluster\"])\n",
    "#     plt.ylabel(string)\n",
    "#     plt.show()"
   ]
  },
  {
   "cell_type": "code",
   "execution_count": null,
   "metadata": {},
   "outputs": [],
   "source": []
  },
  {
   "cell_type": "markdown",
   "metadata": {},
   "source": [
    "# pca feature reduction"
   ]
  },
  {
   "cell_type": "markdown",
   "metadata": {
    "heading_collapsed": true
   },
   "source": [
    "## disease reduction"
   ]
  },
  {
   "cell_type": "code",
   "execution_count": 65,
   "metadata": {
    "ExecuteTime": {
     "end_time": "2018-05-01T10:28:19.490678Z",
     "start_time": "2018-05-01T10:28:19.384138Z"
    },
    "hidden": true
   },
   "outputs": [],
   "source": [
    "selected_disease_risk = disease_risk[['Arthritis',\n",
    "                                    'Asthma',\n",
    "                                    'Chronic_Obstructive_Pulmonary_Disease',\n",
    "                                    'Circulatory_System_Diseases',\n",
    "                                    'Musculoskeletal_System_Diseases']]\n",
    "\n",
    "# risk_all = df()\n",
    "sklearn_pca = sklearnPCA(n_components=1)   \n",
    "disease_risk_sklearn = sklearn_pca.fit_transform(selected_disease_risk)\n",
    "# health_risk_all['label'] = area_merged[\"type\"]\n",
    "# risk_all['label'] = lga_profile['Metro/rural']\n",
    "\n",
    "# define color palette\n",
    "# palette = ['violet','yellow']\n"
   ]
  },
  {
   "cell_type": "code",
   "execution_count": 66,
   "metadata": {
    "ExecuteTime": {
     "end_time": "2018-05-01T10:28:19.606492Z",
     "start_time": "2018-05-01T10:28:19.493184Z"
    },
    "hidden": true
   },
   "outputs": [],
   "source": [
    "variance = []\n",
    "variance.append(sklearn_pca.explained_variance_ratio_)"
   ]
  },
  {
   "cell_type": "markdown",
   "metadata": {
    "heading_collapsed": true
   },
   "source": [
    "## health risk reduction"
   ]
  },
  {
   "cell_type": "code",
   "execution_count": 67,
   "metadata": {
    "ExecuteTime": {
     "end_time": "2018-05-01T10:28:19.727910Z",
     "start_time": "2018-05-01T10:28:19.608522Z"
    },
    "hidden": true
   },
   "outputs": [],
   "source": [
    "selected_health_risk = health_risk[['Alcohol_Consumption_Persons_Aged_18_Years_and_Over',\n",
    "                                    'Current_Smokers_Persons_18_Years_and_Over',\n",
    "                                    'Obese_Persons_18_Years_and_Over']]"
   ]
  },
  {
   "cell_type": "code",
   "execution_count": 68,
   "metadata": {
    "ExecuteTime": {
     "end_time": "2018-05-01T10:28:19.818649Z",
     "start_time": "2018-05-01T10:28:19.730420Z"
    },
    "hidden": true
   },
   "outputs": [],
   "source": [
    "health_risk_sklearn = sklearn_pca.fit_transform(selected_health_risk)"
   ]
  },
  {
   "cell_type": "code",
   "execution_count": 69,
   "metadata": {
    "ExecuteTime": {
     "end_time": "2018-05-01T10:28:19.922449Z",
     "start_time": "2018-05-01T10:28:19.820655Z"
    },
    "hidden": true
   },
   "outputs": [],
   "source": [
    "variance.append(sklearn_pca.explained_variance_ratio_)"
   ]
  },
  {
   "cell_type": "code",
   "execution_count": 70,
   "metadata": {
    "ExecuteTime": {
     "end_time": "2018-05-01T10:28:20.031135Z",
     "start_time": "2018-05-01T10:28:19.923954Z"
    },
    "hidden": true
   },
   "outputs": [],
   "source": [
    "# disease_health = df(data = [disease_risk_sklearn, health_risk_sklearn], columns = [\"disease_risk\", \"health_risk\"])\n",
    "# disease_health[\"disease_risk\"] = disease_risk_sklearn\n",
    "# disease_health[\"health_risk\"] = health_risk_sklearn\n",
    "disease = [i[0] for i in disease_risk_sklearn]\n",
    "health = [i[0] for i in health_risk_sklearn]\n",
    "disease = pd.Series(disease)\n",
    "health = pd.Series(health)\n",
    "disease_health = pd.concat([disease, health], axis=1)\n",
    "disease_health.columns = [\"disease_risk_reduced\", \"health_risk_reduced\"]\n",
    "# disease_health"
   ]
  },
  {
   "cell_type": "markdown",
   "metadata": {
    "heading_collapsed": true
   },
   "source": [
    "## pca analysis plot"
   ]
  },
  {
   "cell_type": "code",
   "execution_count": 80,
   "metadata": {
    "ExecuteTime": {
     "end_time": "2018-05-01T11:06:05.705640Z",
     "start_time": "2018-05-01T11:06:05.560253Z"
    },
    "hidden": true
   },
   "outputs": [
    {
     "name": "stdout",
     "output_type": "stream",
     "text": [
      "Variance explained by each PC [array([0.8048138]), array([0.92761512])]\n"
     ]
    },
    {
     "data": {
      "image/png": "[encoded data removed]",
      "text/plain": [
       "<matplotlib.figure.Figure at 0x14657d30>"
      ]
     },
     "metadata": {},
     "output_type": "display_data"
    }
   ],
   "source": [
    "# take first column and replace labels with colors, return a list\n",
    "# colors = risk_all.label.replace(to_replace=risk_all.label.unique(), value=palette).tolist()\n",
    "\n",
    "print(\"Variance explained by each PC\", variance)\n",
    "plt.scatter(disease_risk_sklearn, health_risk_sklearn, s=60)\n",
    "plt.xlabel(\"feature reduced - health risk principle component\")\n",
    "plt.ylabel(\"feature reduced - disease risk principle component\")\n",
    "# plt.ylim([-0.05, 0.07])\n",
    "plt.show()"
   ]
  },
  {
   "cell_type": "markdown",
   "metadata": {},
   "source": [
    "## k-cluster(2)"
   ]
  },
  {
   "cell_type": "code",
   "execution_count": 72,
   "metadata": {
    "ExecuteTime": {
     "end_time": "2018-05-01T10:28:20.280283Z",
     "start_time": "2018-05-01T10:28:20.264742Z"
    }
   },
   "outputs": [],
   "source": [
    "num_clusters = 2\n",
    "\n",
    "y_pred = KMeans(n_clusters=num_clusters).fit_predict(disease_health)"
   ]
  },
  {
   "cell_type": "code",
   "execution_count": 78,
   "metadata": {
    "ExecuteTime": {
     "end_time": "2018-05-01T10:32:01.399530Z",
     "start_time": "2018-05-01T10:32:01.172427Z"
    }
   },
   "outputs": [
    {
     "data": {
      "image/png": "[encoded data removed]",
      "text/plain": [
       "<matplotlib.figure.Figure at 0x1466f050>"
      ]
     },
     "metadata": {},
     "output_type": "display_data"
    }
   ],
   "source": [
    "disease_health[\"cluster\"] = 0\n",
    "\n",
    "plt.figure(figsize = [8, 8])\n",
    "\n",
    "plt.scatter(disease_health.iloc[:, 0], disease_health.iloc[:, 1], c=y_pred)\n",
    "# plt.ylim([0.015, 0.023])\n",
    "\n",
    "for i, value in enumerate(y_pred):\n",
    "    disease_health.loc[i, \"cluster\"] = value\n",
    "\n",
    "for i, grouped in disease_health.groupby(\"cluster\"):\n",
    "    x_mean = grouped.iloc[:, 0].median()\n",
    "    y_mean = grouped.iloc[:, 1].median()\n",
    "    plt.scatter(x_mean, y_mean, marker = '*')\n",
    "\n",
    "plt.title(\"principle coordinates analysis with k-mean cluster (k={})\".format(num_clusters))\n",
    "plt.xlabel(\"feature reduced - health risk principle component\")\n",
    "plt.ylabel(\"feature reduced - disease risk principle component\")\n",
    "plt.legend([\"data points\", \"cluster center\"])\n",
    "plt.show()"
   ]
  },
  {
   "cell_type": "markdown",
   "metadata": {},
   "source": [
    "## clustered community feature analysis"
   ]
  },
  {
   "cell_type": "code",
   "execution_count": 112,
   "metadata": {
    "ExecuteTime": {
     "end_time": "2018-05-01T12:27:49.428569Z",
     "start_time": "2018-05-01T12:27:49.257113Z"
    }
   },
   "outputs": [
    {
     "name": "stderr",
     "output_type": "stream",
     "text": [
      "d:\\python\\lib\\site-packages\\ipykernel_launcher.py:5: SettingWithCopyWarning: \n",
      "A value is trying to be set on a copy of a slice from a DataFrame.\n",
      "Try using .loc[row_indexer,col_indexer] = value instead\n",
      "\n",
      "See the caveats in the documentation: http://pandas.pydata.org/pandas-docs/stable/indexing.html#indexing-view-versus-copy\n",
      "  \"\"\"\n",
      "d:\\python\\lib\\site-packages\\ipykernel_launcher.py:6: SettingWithCopyWarning: \n",
      "A value is trying to be set on a copy of a slice from a DataFrame.\n",
      "Try using .loc[row_indexer,col_indexer] = value instead\n",
      "\n",
      "See the caveats in the documentation: http://pandas.pydata.org/pandas-docs/stable/indexing.html#indexing-view-versus-copy\n",
      "  \n",
      "d:\\python\\lib\\site-packages\\ipykernel_launcher.py:7: SettingWithCopyWarning: \n",
      "A value is trying to be set on a copy of a slice from a DataFrame.\n",
      "Try using .loc[row_indexer,col_indexer] = value instead\n",
      "\n",
      "See the caveats in the documentation: http://pandas.pydata.org/pandas-docs/stable/indexing.html#indexing-view-versus-copy\n",
      "  import sys\n",
      "d:\\python\\lib\\site-packages\\ipykernel_launcher.py:8: SettingWithCopyWarning: \n",
      "A value is trying to be set on a copy of a slice from a DataFrame.\n",
      "Try using .loc[row_indexer,col_indexer] = value instead\n",
      "\n",
      "See the caveats in the documentation: http://pandas.pydata.org/pandas-docs/stable/indexing.html#indexing-view-versus-copy\n",
      "  \n",
      "d:\\python\\lib\\site-packages\\ipykernel_launcher.py:9: SettingWithCopyWarning: \n",
      "A value is trying to be set on a copy of a slice from a DataFrame.\n",
      "Try using .loc[row_indexer,col_indexer] = value instead\n",
      "\n",
      "See the caveats in the documentation: http://pandas.pydata.org/pandas-docs/stable/indexing.html#indexing-view-versus-copy\n",
      "  if __name__ == '__main__':\n"
     ]
    }
   ],
   "source": [
    "community_feature = lga_profile[['Unemployment_rate',\n",
    "                                '%Born_overseas',\n",
    "                                '%_persons_that_did_not_meet_fruit_and_vegetable_guidelines',\n",
    "                                '%_persons_who_did_not_meet_physical_activity_guidelines']]\n",
    "community_feature['Unemployment_rate'] /= 100\n",
    "community_feature['%_persons_that_did_not_meet_fruit_and_vegetable_guidelines'] /= 100\n",
    "community_feature['%_persons_who_did_not_meet_physical_activity_guidelines'] /= 100\n",
    "community_feature[\"high_mental_pressure\"] = health_risk[\"High_or_Very_High_Psychological_Distress_Levels_(K-10)\"]\n",
    "community_feature['cluster'] = disease_health[\"cluster\"]"
   ]
  },
  {
   "cell_type": "code",
   "execution_count": null,
   "metadata": {},
   "outputs": [],
   "source": []
  },
  {
   "cell_type": "code",
   "execution_count": 166,
   "metadata": {
    "ExecuteTime": {
     "end_time": "2018-05-01T12:51:22.796541Z",
     "start_time": "2018-05-01T12:51:22.497230Z"
    }
   },
   "outputs": [
    {
     "data": {
      "text/plain": [
       "<matplotlib.figure.Figure at 0x170e6070>"
      ]
     },
     "metadata": {},
     "output_type": "display_data"
    },
    {
     "data": {
      "image/png": "[encoded data removed]",
      "text/plain": [
       "<matplotlib.figure.Figure at 0x17115b50>"
      ]
     },
     "metadata": {},
     "output_type": "display_data"
    }
   ],
   "source": [
    "mean = df()\n",
    "\n",
    "for i, group in community_feature.groupby(\"cluster\"):\n",
    "    for string in group.columns:\n",
    "        if string not in ['Local_Government_Area_Code', 'cluster']:\n",
    "#             plt.bar(x=x[string], height=group[string].mean())\n",
    "            mean.loc[i, string+\"_mean\"] = group[string].mean()\n",
    "\n",
    "save = \"plot\\community feature.png\"\n",
    "\n",
    "mean.columns = ['Born overseas',\n",
    "                 'Lack fruit&vegetable',\n",
    "                 'Lack physical activity',\n",
    "                 'Unemployment rate',\n",
    "                 'Feel high mental pressure']\n",
    "\n",
    "transposed = mean.transpose()\n",
    "\n",
    "plt.figure()\n",
    "\n",
    "transposed.plot.barh(figsize=(13, 4), fontsize=10, width = 0.2, color=['blue', 'yellow'])\n",
    "\n",
    "plt.legend([\"low risk cluster\", \"high risk cluster\"])\n",
    "plt.xlabel(\"community mean %\")\n",
    "plt.title(\"comparison between high&low risk communities' features\")\n",
    "\n",
    "plt.savefig(save)\n",
    "plt.show()"
   ]
  },
  {
   "cell_type": "code",
   "execution_count": null,
   "metadata": {},
   "outputs": [],
   "source": []
  },
  {
   "cell_type": "code",
   "execution_count": null,
   "metadata": {},
   "outputs": [],
   "source": []
  },
  {
   "cell_type": "code",
   "execution_count": null,
   "metadata": {},
   "outputs": [],
   "source": []
  }
 ],
 "metadata": {
  "hide_input": false,
  "kernelspec": {
   "display_name": "Python 3",
   "language": "python",
   "name": "python3"
  },
  "language_info": {
   "codemirror_mode": {
    "name": "ipython",
    "version": 3
   },
   "file_extension": ".py",
   "mimetype": "text/x-python",
   "name": "python",
   "nbconvert_exporter": "python",
   "pygments_lexer": "ipython3",
   "version": "3.6.3"
  },
  "toc": {
   "nav_menu": {},
   "number_sections": true,
   "sideBar": true,
   "skip_h1_title": false,
   "title_cell": "Table of Contents",
   "title_sidebar": "Contents",
   "toc_cell": true,
   "toc_position": {
    "height": "calc(100% - 180px)",
    "left": "10px",
    "top": "150px",
    "width": "321px"
   },
   "toc_section_display": true,
   "toc_window_display": true
  }
 },
 "nbformat": 4,
 "nbformat_minor": 2
}
