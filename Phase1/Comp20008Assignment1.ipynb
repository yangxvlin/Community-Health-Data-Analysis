{
 "cells": [
  {
   "cell_type": "markdown",
   "metadata": {
    "toc": true
   },
   "source": [
    "<h1>Table of Contents<span class=\"tocSkip\"></span></h1>\n",
    "<div class=\"toc\"><ul class=\"toc-item\"><li><span><a href=\"#General-code-that-I-want-to-reuse-in-the-following-answers\" data-toc-modified-id=\"General-code-that-I-want-to-reuse-in-the-following-answers-1\"><span class=\"toc-item-num\">1&nbsp;&nbsp;</span><font color=\"blue\">General code that I want to reuse in the following answers</font></a></span><ul class=\"toc-item\"><li><span><a href=\"#library-import\" data-toc-modified-id=\"library-import-1.1\"><span class=\"toc-item-num\">1.1&nbsp;&nbsp;</span>library import</a></span></li><li><span><a href=\"#other-packages-I-used\" data-toc-modified-id=\"other-packages-I-used-1.2\"><span class=\"toc-item-num\">1.2&nbsp;&nbsp;</span>other packages I used</a></span></li><li><span><a href=\"#data-reading\" data-toc-modified-id=\"data-reading-1.3\"><span class=\"toc-item-num\">1.3&nbsp;&nbsp;</span>data reading</a></span></li><li><span><a href=\"#constants-used\" data-toc-modified-id=\"constants-used-1.4\"><span class=\"toc-item-num\">1.4&nbsp;&nbsp;</span>constants used</a></span></li><li><span><a href=\"#output-function\" data-toc-modified-id=\"output-function-1.5\"><span class=\"toc-item-num\">1.5&nbsp;&nbsp;</span>output function</a></span></li></ul></li><li><span><a href=\"#Question-Solution\" data-toc-modified-id=\"Question-Solution-2\"><span class=\"toc-item-num\">2&nbsp;&nbsp;</span><font color=\"blue\">Question Solution</font></a></span><ul class=\"toc-item\"><li><span><a href=\"#Question-1\" data-toc-modified-id=\"Question-1-2.1\"><span class=\"toc-item-num\">2.1&nbsp;&nbsp;</span>Question 1</a></span><ul class=\"toc-item\"><li><span><a href=\"#code\" data-toc-modified-id=\"code-2.1.1\"><span class=\"toc-item-num\">2.1.1&nbsp;&nbsp;</span>code</a></span></li><li><span><a href=\"#output\" data-toc-modified-id=\"output-2.1.2\"><span class=\"toc-item-num\">2.1.2&nbsp;&nbsp;</span>output</a></span></li></ul></li><li><span><a href=\"#Question-2\" data-toc-modified-id=\"Question-2-2.2\"><span class=\"toc-item-num\">2.2&nbsp;&nbsp;</span>Question 2</a></span><ul class=\"toc-item\"><li><span><a href=\"#code\" data-toc-modified-id=\"code-2.2.1\"><span class=\"toc-item-num\">2.2.1&nbsp;&nbsp;</span>code</a></span></li><li><span><a href=\"#output\" data-toc-modified-id=\"output-2.2.2\"><span class=\"toc-item-num\">2.2.2&nbsp;&nbsp;</span>output</a></span></li></ul></li><li><span><a href=\"#Question-3\" data-toc-modified-id=\"Question-3-2.3\"><span class=\"toc-item-num\">2.3&nbsp;&nbsp;</span>Question 3</a></span><ul class=\"toc-item\"><li><span><a href=\"#code\" data-toc-modified-id=\"code-2.3.1\"><span class=\"toc-item-num\">2.3.1&nbsp;&nbsp;</span>code</a></span></li><li><span><a href=\"#output\" data-toc-modified-id=\"output-2.3.2\"><span class=\"toc-item-num\">2.3.2&nbsp;&nbsp;</span>output</a></span></li></ul></li><li><span><a href=\"#Question-4\" data-toc-modified-id=\"Question-4-2.4\"><span class=\"toc-item-num\">2.4&nbsp;&nbsp;</span>Question 4</a></span><ul class=\"toc-item\"><li><span><a href=\"#function-defined\" data-toc-modified-id=\"function-defined-2.4.1\"><span class=\"toc-item-num\">2.4.1&nbsp;&nbsp;</span>function defined</a></span></li><li><span><a href=\"#change-data-type-in-the-table\" data-toc-modified-id=\"change-data-type-in-the-table-2.4.2\"><span class=\"toc-item-num\">2.4.2&nbsp;&nbsp;</span>change data type in the table</a></span></li><li><span><a href=\"#code\" data-toc-modified-id=\"code-2.4.3\"><span class=\"toc-item-num\">2.4.3&nbsp;&nbsp;</span>code</a></span></li><li><span><a href=\"#output-plot\" data-toc-modified-id=\"output-plot-2.4.4\"><span class=\"toc-item-num\">2.4.4&nbsp;&nbsp;</span>output plot</a></span></li></ul></li><li><span><a href=\"#Question-5\" data-toc-modified-id=\"Question-5-2.5\"><span class=\"toc-item-num\">2.5&nbsp;&nbsp;</span>Question 5</a></span><ul class=\"toc-item\"><li><span><a href=\"#code\" data-toc-modified-id=\"code-2.5.1\"><span class=\"toc-item-num\">2.5.1&nbsp;&nbsp;</span>code</a></span></li><li><span><a href=\"#output\" data-toc-modified-id=\"output-2.5.2\"><span class=\"toc-item-num\">2.5.2&nbsp;&nbsp;</span>output</a></span></li></ul></li><li><span><a href=\"#Question-6\" data-toc-modified-id=\"Question-6-2.6\"><span class=\"toc-item-num\">2.6&nbsp;&nbsp;</span>Question 6</a></span><ul class=\"toc-item\"><li><span><a href=\"#code\" data-toc-modified-id=\"code-2.6.1\"><span class=\"toc-item-num\">2.6.1&nbsp;&nbsp;</span>code</a></span></li><li><span><a href=\"#output-plot\" data-toc-modified-id=\"output-plot-2.6.2\"><span class=\"toc-item-num\">2.6.2&nbsp;&nbsp;</span>output plot</a></span></li></ul></li><li><span><a href=\"#Question-7\" data-toc-modified-id=\"Question-7-2.7\"><span class=\"toc-item-num\">2.7&nbsp;&nbsp;</span>Question 7</a></span><ul class=\"toc-item\"><li><span><a href=\"#code\" data-toc-modified-id=\"code-2.7.1\"><span class=\"toc-item-num\">2.7.1&nbsp;&nbsp;</span>code</a></span></li><li><span><a href=\"#output-plot\" data-toc-modified-id=\"output-plot-2.7.2\"><span class=\"toc-item-num\">2.7.2&nbsp;&nbsp;</span>output plot</a></span></li></ul></li><li><span><a href=\"#Question-8\" data-toc-modified-id=\"Question-8-2.8\"><span class=\"toc-item-num\">2.8&nbsp;&nbsp;</span>Question 8</a></span><ul class=\"toc-item\"><li><span><a href=\"#function-defined\" data-toc-modified-id=\"function-defined-2.8.1\"><span class=\"toc-item-num\">2.8.1&nbsp;&nbsp;</span>function defined</a></span></li><li><span><a href=\"#code\" data-toc-modified-id=\"code-2.8.2\"><span class=\"toc-item-num\">2.8.2&nbsp;&nbsp;</span>code</a></span></li><li><span><a href=\"#output-plot\" data-toc-modified-id=\"output-plot-2.8.3\"><span class=\"toc-item-num\">2.8.3&nbsp;&nbsp;</span>output plot</a></span></li></ul></li><li><span><a href=\"#Question-9\" data-toc-modified-id=\"Question-9-2.9\"><span class=\"toc-item-num\">2.9&nbsp;&nbsp;</span>Question 9</a></span><ul class=\"toc-item\"><li><span><a href=\"#code\" data-toc-modified-id=\"code-2.9.1\"><span class=\"toc-item-num\">2.9.1&nbsp;&nbsp;</span>code</a></span></li><li><span><a href=\"#output-plot\" data-toc-modified-id=\"output-plot-2.9.2\"><span class=\"toc-item-num\">2.9.2&nbsp;&nbsp;</span>output plot</a></span></li></ul></li><li><span><a href=\"#Question-10\" data-toc-modified-id=\"Question-10-2.10\"><span class=\"toc-item-num\">2.10&nbsp;&nbsp;</span>Question 10</a></span><ul class=\"toc-item\"><li><span><a href=\"#function-defined\" data-toc-modified-id=\"function-defined-2.10.1\"><span class=\"toc-item-num\">2.10.1&nbsp;&nbsp;</span>function defined</a></span></li><li><span><a href=\"#select-trips-start-and-end-within-1day-and-duration&lt;60\" data-toc-modified-id=\"select-trips-start-and-end-within-1day-and-duration<60-2.10.2\"><span class=\"toc-item-num\">2.10.2&nbsp;&nbsp;</span>select trips start and end within 1day and duration&lt;60</a></span></li><li><span><a href=\"#set-up-Dataframe-daily\" data-toc-modified-id=\"set-up-Dataframe-daily-2.10.3\"><span class=\"toc-item-num\">2.10.3&nbsp;&nbsp;</span>set up Dataframe daily</a></span></li><li><span><a href=\"#code\" data-toc-modified-id=\"code-2.10.4\"><span class=\"toc-item-num\">2.10.4&nbsp;&nbsp;</span>code</a></span></li><li><span><a href=\"#output-plot\" data-toc-modified-id=\"output-plot-2.10.5\"><span class=\"toc-item-num\">2.10.5&nbsp;&nbsp;</span>output plot</a></span></li></ul></li></ul></li><li><span><a href=\"#XuLin-Yang-904904-COMP20007-assignment1-End\" data-toc-modified-id=\"XuLin-Yang-904904-COMP20007-assignment1-End-3\"><span class=\"toc-item-num\">3&nbsp;&nbsp;</span>XuLin Yang 904904 COMP20007 assignment1 End</a></span></li></ul></div>"
   ]
  },
  {
   "cell_type": "markdown",
   "metadata": {
    "ExecuteTime": {
     "end_time": "2018-03-29T00:12:46.221166Z",
     "start_time": "2018-03-29T00:12:46.215150Z"
    }
   },
   "source": [
    "## <font color=blue>General code that I want to reuse in the following answers\n",
    "</font>"
   ]
  },
  {
   "cell_type": "markdown",
   "metadata": {
    "hide_input": false
   },
   "source": [
    "### library import"
   ]
  },
  {
   "cell_type": "code",
   "execution_count": 1,
   "metadata": {
    "ExecuteTime": {
     "end_time": "2018-04-09T01:44:39.902116Z",
     "start_time": "2018-04-09T01:44:32.696725Z"
    },
    "hide_input": true,
    "scrolled": true
   },
   "outputs": [],
   "source": [
    "import pandas as pd\n",
    "from pandas import DataFrame as df\n",
    "\n",
    "import numpy as np\n",
    "\n",
    "import matplotlib.pyplot as plt\n",
    "\n",
    "from pandas.plotting import parallel_coordinates as pc_plot"
   ]
  },
  {
   "cell_type": "markdown",
   "metadata": {},
   "source": [
    "### other packages I used"
   ]
  },
  {
   "cell_type": "code",
   "execution_count": 2,
   "metadata": {
    "ExecuteTime": {
     "end_time": "2018-04-09T01:44:39.907980Z",
     "start_time": "2018-04-09T01:44:39.903970Z"
    }
   },
   "outputs": [],
   "source": [
    "# datetime needed to access hour, minutes, dayofweek, dayofmonth and etc in later question\n",
    "import datetime as dt\n",
    "\n",
    "# needed to calculate 1 hour range for 'time' in Q10 function 'time_range_max()'\n",
    "from datetime import timedelta"
   ]
  },
  {
   "cell_type": "markdown",
   "metadata": {},
   "source": [
    "### data reading"
   ]
  },
  {
   "cell_type": "code",
   "execution_count": 3,
   "metadata": {
    "ExecuteTime": {
     "end_time": "2018-04-09T01:44:40.254626Z",
     "start_time": "2018-04-09T01:44:39.910013Z"
    },
    "scrolled": true
   },
   "outputs": [],
   "source": [
    "# read data from clean-january.csv\n",
    "data = pd.read_csv(\"clean-january.csv\",  encoding = 'ISO-8859-1')\n",
    "\n",
    "# check whether the data is correctly read\n",
    "# data"
   ]
  },
  {
   "cell_type": "markdown",
   "metadata": {
    "hide_input": true
   },
   "source": [
    "### constants used"
   ]
  },
  {
   "cell_type": "code",
   "execution_count": 4,
   "metadata": {
    "ExecuteTime": {
     "end_time": "2018-04-09T01:44:40.264656Z",
     "start_time": "2018-04-09T01:44:40.256634Z"
    },
    "scrolled": true
   },
   "outputs": [],
   "source": [
    "# From Question1, 'A short trip is one that has a distance of less than 3 miles.'\n",
    "SHORT_DISTANCE = 3\n",
    "\n",
    "# From Question1, 'Create a new DataFrame with the following schema.'\n",
    "NEW_SCHEMA = [\"Index\", \"Short_Trip\", \"Trip_distance\", \"Passenger_count\", \"Payment_amount\", \"Duration\"]\n",
    "\n",
    "# lower all the string in NEW_SCHEMA because schemas in original data are lower case\n",
    "LOWERED_SCHEMA = [s.lower() for s in NEW_SCHEMA]\n",
    "\n",
    "# legend day of week\n",
    "WEEK = [\"Monday\", \"Tuesday\", \"Wednesday\", \"Thursday\", \"Friday\", \"Saturday\", \"Sunday\"]\n",
    "\n",
    "# number of weekday in a week\n",
    "WEEKDAY = 5"
   ]
  },
  {
   "cell_type": "markdown",
   "metadata": {},
   "source": [
    "### output function"
   ]
  },
  {
   "cell_type": "markdown",
   "metadata": {},
   "source": [
    "thee function used to print the output for each question"
   ]
  },
  {
   "cell_type": "code",
   "execution_count": 5,
   "metadata": {
    "ExecuteTime": {
     "end_time": "2018-04-09T01:44:40.418685Z",
     "start_time": "2018-04-09T01:44:40.266689Z"
    }
   },
   "outputs": [],
   "source": [
    "def printOutput(output, question):\n",
    "    asterisk = 3\n",
    "    if question == 1:\n",
    "        percentage = output[0]\n",
    "        print(\"Question %d\" % question)\n",
    "        print(\"%% of short trips=%.1f\" % percentage)\n",
    "        print(asterisk * '*')\n",
    "    elif question == 2:\n",
    "        median_dis = output[0]\n",
    "        median_duration = output[1]\n",
    "        print(\"Question %d median trip distance\" % question)\n",
    "        print(\"January: %.1f\" % median_dis)\n",
    "        print(asterisk * '*')\n",
    "        print(\"Question %d median trip duration\" % question)\n",
    "        print(\"January: %.1f\" % median_duration)\n",
    "        print(asterisk * '*')\n",
    "    elif question == 3:\n",
    "        ratio = output[0]\n",
    "        low = output[1]\n",
    "        high = output[2]\n",
    "        print(\"Question %d\" % question)\n",
    "        print(\"%.1f%% of instances in 'tripdistance' are abnormal! \" % ratio +\n",
    "              \"(normal range is between %.1f and %.1f)\" % (low, high))\n",
    "        print(asterisk * '*')\n",
    "    elif question == 5:\n",
    "        percentage = output[0]\n",
    "        print(\"Question %d\" % question)\n",
    "        print(\"%% of peak hour trips=%.1f\" % percentage)\n",
    "        print(asterisk * '*')\n",
    "        "
   ]
  },
  {
   "cell_type": "markdown",
   "metadata": {},
   "source": [
    "## <font color=blue>Question Solution</font>"
   ]
  },
  {
   "cell_type": "markdown",
   "metadata": {},
   "source": [
    "### Question 1"
   ]
  },
  {
   "cell_type": "markdown",
   "metadata": {},
   "source": [
    "#### code"
   ]
  },
  {
   "cell_type": "code",
   "execution_count": 6,
   "metadata": {
    "ExecuteTime": {
     "end_time": "2018-04-09T01:44:40.648561Z",
     "start_time": "2018-04-09T01:44:40.421693Z"
    }
   },
   "outputs": [],
   "source": [
    "# create a new DataFrame with NEW_SCHEMA from data\n",
    "trip = df(columns = NEW_SCHEMA)\n",
    "\n",
    "# copy data for columns: [\"Trip_distance\", \"Passenger_count\", \"Payment_amount\", \"Duration\"]\n",
    "trip[NEW_SCHEMA[2:]] = data[LOWERED_SCHEMA[2:]]\n",
    "\n",
    "# set index to \"Index\" column and set \"Index\" column as the index of trip\n",
    "trip[\"Index\"] = trip.index\n",
    "trip.set_index(\"Index\", inplace=True)\n",
    "\n",
    "# assign 1 for Trip_distance < 3 else 0\n",
    "selected_index = (trip[\"Trip_distance\"] < SHORT_DISTANCE) * 1\n",
    "trip = trip.assign(Short_Trip=selected_index)\n",
    "\n",
    "# claculate result\n",
    "res = trip[\"Short_Trip\"].sum() / trip.shape[0] * 100"
   ]
  },
  {
   "cell_type": "markdown",
   "metadata": {},
   "source": [
    "#### output"
   ]
  },
  {
   "cell_type": "code",
   "execution_count": 7,
   "metadata": {
    "ExecuteTime": {
     "end_time": "2018-04-09T01:44:40.670540Z",
     "start_time": "2018-04-09T01:44:40.651481Z"
    }
   },
   "outputs": [
    {
     "name": "stdout",
     "output_type": "stream",
     "text": [
      "Question 1\n",
      "% of short trips=71.3\n",
      "***\n"
     ]
    }
   ],
   "source": [
    "printOutput([res], 1)"
   ]
  },
  {
   "cell_type": "markdown",
   "metadata": {},
   "source": [
    "### Question 2"
   ]
  },
  {
   "cell_type": "markdown",
   "metadata": {},
   "source": [
    "#### code"
   ]
  },
  {
   "cell_type": "code",
   "execution_count": 8,
   "metadata": {
    "ExecuteTime": {
     "end_time": "2018-04-09T01:44:40.773809Z",
     "start_time": "2018-04-09T01:44:40.677553Z"
    }
   },
   "outputs": [],
   "source": [
    "# calculate result\n",
    "res1 = trip[\"Trip_distance\"].median()\n",
    "res2 = trip[\"Duration\"].median()"
   ]
  },
  {
   "cell_type": "markdown",
   "metadata": {},
   "source": [
    "#### output"
   ]
  },
  {
   "cell_type": "code",
   "execution_count": 9,
   "metadata": {
    "ExecuteTime": {
     "end_time": "2018-04-09T01:44:40.869061Z",
     "start_time": "2018-04-09T01:44:40.779824Z"
    }
   },
   "outputs": [
    {
     "name": "stdout",
     "output_type": "stream",
     "text": [
      "Question 2 median trip distance\n",
      "January: 1.8\n",
      "***\n",
      "Question 2 median trip duration\n",
      "January: 11.0\n",
      "***\n"
     ]
    }
   ],
   "source": [
    "printOutput([res1, res2], 2)"
   ]
  },
  {
   "cell_type": "markdown",
   "metadata": {},
   "source": [
    "### Question 3"
   ]
  },
  {
   "cell_type": "markdown",
   "metadata": {},
   "source": [
    "#### code"
   ]
  },
  {
   "cell_type": "code",
   "execution_count": 10,
   "metadata": {
    "ExecuteTime": {
     "end_time": "2018-04-09T01:44:41.306710Z",
     "start_time": "2018-04-09T01:44:40.875077Z"
    }
   },
   "outputs": [],
   "source": [
    "# calculate number are normal the cal the abnormal\n",
    "res = 100 - (data[\"trip_distance\"].between(1.2, 4.5).sum() / data.shape[0] * 100)"
   ]
  },
  {
   "cell_type": "markdown",
   "metadata": {},
   "source": [
    "#### output"
   ]
  },
  {
   "cell_type": "code",
   "execution_count": 11,
   "metadata": {
    "ExecuteTime": {
     "end_time": "2018-04-09T01:44:41.405991Z",
     "start_time": "2018-04-09T01:44:41.308684Z"
    }
   },
   "outputs": [
    {
     "name": "stdout",
     "output_type": "stream",
     "text": [
      "Question 3\n",
      "42.9% of instances in 'tripdistance' are abnormal! (normal range is between 1.2 and 4.5)\n",
      "***\n"
     ]
    }
   ],
   "source": [
    "printOutput([res, 1.2, 4.5], 3)"
   ]
  },
  {
   "cell_type": "markdown",
   "metadata": {},
   "source": [
    "### Question 4"
   ]
  },
  {
   "cell_type": "markdown",
   "metadata": {},
   "source": [
    "#### function defined"
   ]
  },
  {
   "cell_type": "markdown",
   "metadata": {},
   "source": [
    "<head>function 'between_time(data, column, start, end, selected))' return the selected data column within specified time range ∈ [start, end]</head>\n",
    "- 'column' is the column of data to be checked\n",
    "- 'data' is the data table to be processed\n",
    "- 'start' and 'end' is the time range\n",
    "- 'selected' is the selected column to be return"
   ]
  },
  {
   "cell_type": "code",
   "execution_count": 12,
   "metadata": {
    "ExecuteTime": {
     "end_time": "2018-04-09T01:44:41.530575Z",
     "start_time": "2018-04-09T01:44:41.408023Z"
    },
    "code_folding": []
   },
   "outputs": [],
   "source": [
    "def between_time(data, column, start, end, selected):\n",
    "    return data.set_index(column).between_time(start, end).reset_index()[selected]"
   ]
  },
  {
   "cell_type": "markdown",
   "metadata": {},
   "source": [
    "#### change data type in the table"
   ]
  },
  {
   "cell_type": "code",
   "execution_count": 13,
   "metadata": {
    "ExecuteTime": {
     "end_time": "2018-04-09T01:44:42.293011Z",
     "start_time": "2018-04-09T01:44:41.535614Z"
    }
   },
   "outputs": [],
   "source": [
    "# change the data type to time stamp type in [\"pickup_datetime\", \"dropoff_datetime\"] columns\n",
    "data[\"pickup_datetime\"] = pd.to_datetime(data[\"pickup_datetime\"], format='%d/%m/%y %H:%M')\n",
    "data[\"dropoff_datetime\"] = pd.to_datetime(data[\"dropoff_datetime\"], format='%d/%m/%y %H:%M')"
   ]
  },
  {
   "cell_type": "markdown",
   "metadata": {},
   "source": [
    "#### code"
   ]
  },
  {
   "cell_type": "code",
   "execution_count": 14,
   "metadata": {
    "ExecuteTime": {
     "end_time": "2018-04-09T01:44:42.344057Z",
     "start_time": "2018-04-09T01:44:42.294924Z"
    }
   },
   "outputs": [],
   "source": [
    "morning_trip_pay = between_time(data, \"pickup_datetime\", \"07:00\", \"11:00\", \"payment_amount\")\n",
    "afternoon_trip_pay = between_time(data, \"pickup_datetime\", \"12:00\", \"15:00\", \"payment_amount\")"
   ]
  },
  {
   "cell_type": "markdown",
   "metadata": {},
   "source": [
    "#### output plot"
   ]
  },
  {
   "cell_type": "code",
   "execution_count": 15,
   "metadata": {
    "ExecuteTime": {
     "end_time": "2018-04-09T01:44:42.713945Z",
     "start_time": "2018-04-09T01:44:42.345697Z"
    }
   },
   "outputs": [
    {
     "data": {
      "image/png": "[encoded data removed]",
      "text/plain": [
       "<matplotlib.figure.Figure at 0x139463d0>"
      ]
     },
     "metadata": {},
     "output_type": "display_data"
    }
   ],
   "source": [
    "plt.subplot(121)\n",
    "morning_trip_pay.plot.box(title=\"boxplot of trip fares in morning\", label=\"morning\", grid=True, figsize=(8,8))\n",
    "plt.subplot(122)\n",
    "afternoon_trip_pay.plot.box(title=\"boxplot of trip fares in afternoon\", label=\"afternoon\", grid=True, figsize=(8,8))\n",
    "plt.show()"
   ]
  },
  {
   "cell_type": "markdown",
   "metadata": {},
   "source": [
    "### Question 5"
   ]
  },
  {
   "cell_type": "markdown",
   "metadata": {},
   "source": [
    "#### code"
   ]
  },
  {
   "cell_type": "code",
   "execution_count": 16,
   "metadata": {
    "ExecuteTime": {
     "end_time": "2018-04-09T01:44:42.836294Z",
     "start_time": "2018-04-09T01:44:42.715965Z"
    }
   },
   "outputs": [],
   "source": [
    "# select data ∈[Monday, Friday] ∩ [07:00, 09:00)\n",
    "selected = ((data[\"pickup_datetime\"].dt.dayofweek<5) & (data[\"pickup_datetime\"].dt.hour>=7) & (data[\"pickup_datetime\"].dt.hour<9) &\n",
    "           (data[\"dropoff_datetime\"].dt.dayofweek<5) & (data[\"dropoff_datetime\"].dt.hour>=7) & (data[\"dropoff_datetime\"].dt.hour<9)) * 1\n",
    "\n",
    "# data isPeak=1 if it is on weekday and between [07:00, 08:59]\n",
    "data = data.assign(isPeak=selected)\n",
    "\n",
    "# calculate the result\n",
    "res = data[\"isPeak\"].sum() / data.shape[0] * 100"
   ]
  },
  {
   "cell_type": "markdown",
   "metadata": {},
   "source": [
    "#### output"
   ]
  },
  {
   "cell_type": "code",
   "execution_count": 17,
   "metadata": {
    "ExecuteTime": {
     "end_time": "2018-04-09T01:44:42.842274Z",
     "start_time": "2018-04-09T01:44:42.838263Z"
    },
    "scrolled": false
   },
   "outputs": [
    {
     "name": "stdout",
     "output_type": "stream",
     "text": [
      "Question 5\n",
      "% of peak hour trips=6.2\n",
      "***\n"
     ]
    }
   ],
   "source": [
    "printOutput([res], 5)"
   ]
  },
  {
   "cell_type": "markdown",
   "metadata": {},
   "source": [
    "### Question 6"
   ]
  },
  {
   "cell_type": "markdown",
   "metadata": {},
   "source": [
    "#### code"
   ]
  },
  {
   "cell_type": "code",
   "execution_count": 18,
   "metadata": {
    "ExecuteTime": {
     "end_time": "2018-04-09T01:44:43.012165Z",
     "start_time": "2018-04-09T01:44:42.844301Z"
    }
   },
   "outputs": [],
   "source": [
    "# assign the day in month of record to \"dayofmonth\" column\n",
    "data[\"dayofmonth\"] = data[\"pickup_datetime\"].dt.day"
   ]
  },
  {
   "cell_type": "markdown",
   "metadata": {},
   "source": [
    "#### output plot"
   ]
  },
  {
   "cell_type": "code",
   "execution_count": 19,
   "metadata": {
    "ExecuteTime": {
     "end_time": "2018-04-09T01:44:43.265839Z",
     "start_time": "2018-04-09T01:44:43.016175Z"
    }
   },
   "outputs": [
    {
     "data": {
      "image/png": "[encoded data removed]",
      "text/plain": [
       "<matplotlib.figure.Figure at 0x13238cd0>"
      ]
     },
     "metadata": {},
     "output_type": "display_data"
    }
   ],
   "source": [
    "data[\"dayofmonth\"].value_counts(sort=False).plot(kind=\"bar\", figsize=(7, 3),\n",
    "     colormap=\"Accent\", rot=0, title=\"number of daily trips in January\")\n",
    "plt.xlabel(\"day of month\")\n",
    "plt.ylabel(\"total #trips in one day\")\n",
    "plt.show()"
   ]
  },
  {
   "cell_type": "markdown",
   "metadata": {},
   "source": [
    "### Question 7"
   ]
  },
  {
   "cell_type": "markdown",
   "metadata": {
    "ExecuteTime": {
     "end_time": "2018-03-31T13:59:30.705404Z",
     "start_time": "2018-03-31T13:59:30.398588Z"
    }
   },
   "source": [
    "#### code"
   ]
  },
  {
   "cell_type": "code",
   "execution_count": 20,
   "metadata": {
    "ExecuteTime": {
     "end_time": "2018-04-09T01:44:43.287899Z",
     "start_time": "2018-04-09T01:44:43.267881Z"
    }
   },
   "outputs": [],
   "source": [
    "# assign the day in week of record to \"dayofweek\" column\n",
    "data[\"dayofweek\"] = data[\"pickup_datetime\"].dt.weekday"
   ]
  },
  {
   "cell_type": "markdown",
   "metadata": {},
   "source": [
    "#### output plot"
   ]
  },
  {
   "cell_type": "code",
   "execution_count": 21,
   "metadata": {
    "ExecuteTime": {
     "end_time": "2018-04-09T01:44:43.591700Z",
     "start_time": "2018-04-09T01:44:43.288901Z"
    },
    "scrolled": true
   },
   "outputs": [
    {
     "data": {
      "image/png": "[encoded data removed]",
      "text/plain": [
       "<matplotlib.figure.Figure at 0x13655af0>"
      ]
     },
     "metadata": {},
     "output_type": "display_data"
    }
   ],
   "source": [
    "# seperate data into groups of day of week\n",
    "dataset = data[[\"dayofweek\", \"payment_amount\", \"trip_distance\"]].groupby(\"dayofweek\").mean()\n",
    "\n",
    "# scatter plot each group seperately\n",
    "[plt.scatter(x=dataset.iloc[i, 0], y=dataset.iloc[i, 1]) for i in np.arange(7)]\n",
    "\n",
    "plt.legend(WEEK)\n",
    "plt.title(\"mean payment amount v.s. mean trip distance\")\n",
    "plt.xlabel(\"mean payment amount\")\n",
    "plt.ylabel(\"mean trip distance\")\n",
    "plt.show()"
   ]
  },
  {
   "cell_type": "markdown",
   "metadata": {},
   "source": [
    "### Question 8"
   ]
  },
  {
   "cell_type": "markdown",
   "metadata": {},
   "source": [
    "#### function defined"
   ]
  },
  {
   "cell_type": "markdown",
   "metadata": {},
   "source": [
    "<head/>function 'normalize(data, col)'\n",
    "- return (data[col] - min of column) / (max of column - min of column)"
   ]
  },
  {
   "cell_type": "code",
   "execution_count": 22,
   "metadata": {
    "ExecuteTime": {
     "end_time": "2018-04-09T01:44:43.596688Z",
     "start_time": "2018-04-09T01:44:43.593679Z"
    }
   },
   "outputs": [],
   "source": [
    "def normalize(data, col):\n",
    "    return (data[col]-data[col].min()) / (data[col].max()-data[col].min())"
   ]
  },
  {
   "cell_type": "markdown",
   "metadata": {},
   "source": [
    "#### code"
   ]
  },
  {
   "cell_type": "code",
   "execution_count": 23,
   "metadata": {
    "ExecuteTime": {
     "end_time": "2018-04-09T01:44:43.722019Z",
     "start_time": "2018-04-09T01:44:43.598694Z"
    },
    "scrolled": true
   },
   "outputs": [],
   "source": [
    "# new DataFrame 'normalized' to store calculated normalized data columns\n",
    "normalized = df()\n",
    "\n",
    "# apply 'normalize()' to these columns of data\n",
    "normalized[\"dayofweek\"] = data[\"dayofweek\"]\n",
    "normalized[\"mean_trip_distance\"] = normalize(data, \"trip_distance\")\n",
    "normalized[\"mean_passenger_count\"] = normalize(data, \"passenger_count\")\n",
    "normalized[\"mean_payment_amount\"] = normalize(data, \"payment_amount\")\n",
    "\n",
    "# seperate normalized data's mean value by 'day in week'\n",
    "grouped = normalized.groupby(\"dayofweek\").mean()\n",
    "\n",
    "# legend by weekday and weekend\n",
    "grouped['name'] = 'Weekday'\n",
    "weekend_index = grouped[grouped.index>4].index\n",
    "grouped.iloc[weekend_index, -1] = 'Weekend'"
   ]
  },
  {
   "cell_type": "markdown",
   "metadata": {},
   "source": [
    "#### output plot"
   ]
  },
  {
   "cell_type": "code",
   "execution_count": 24,
   "metadata": {
    "ExecuteTime": {
     "end_time": "2018-04-09T01:44:43.985637Z",
     "start_time": "2018-04-09T01:44:43.723021Z"
    }
   },
   "outputs": [
    {
     "data": {
      "image/png": "[encoded data removed]",
      "text/plain": [
       "<matplotlib.figure.Figure at 0x13587f30>"
      ]
     },
     "metadata": {},
     "output_type": "display_data"
    }
   ],
   "source": [
    "# 'name' column is the legend column\n",
    "pc_plot(grouped[[\"mean_trip_distance\", \"mean_passenger_count\", \"mean_payment_amount\", 'name']],'name', color=['r', 'b'])\n",
    "plt.show()"
   ]
  },
  {
   "cell_type": "markdown",
   "metadata": {},
   "source": [
    "### Question 9"
   ]
  },
  {
   "cell_type": "markdown",
   "metadata": {},
   "source": [
    "#### code"
   ]
  },
  {
   "cell_type": "code",
   "execution_count": 25,
   "metadata": {
    "ExecuteTime": {
     "end_time": "2018-04-09T01:44:43.993653Z",
     "start_time": "2018-04-09T01:44:43.987636Z"
    }
   },
   "outputs": [],
   "source": [
    "# minutes_travelling = passenger_count * duration\n",
    "data[\"minutes_travelling\"] = data[\"passenger_count\"] * data[\"duration\"]"
   ]
  },
  {
   "cell_type": "markdown",
   "metadata": {},
   "source": [
    "#### output plot"
   ]
  },
  {
   "cell_type": "code",
   "execution_count": 26,
   "metadata": {
    "ExecuteTime": {
     "end_time": "2018-04-09T01:44:44.218032Z",
     "start_time": "2018-04-09T01:44:43.996662Z"
    },
    "scrolled": true
   },
   "outputs": [
    {
     "data": {
      "image/png": "[encoded data removed]",
      "text/plain": [
       "<matplotlib.figure.Figure at 0x1350b8b0>"
      ]
     },
     "metadata": {},
     "output_type": "display_data"
    }
   ],
   "source": [
    "data.groupby(\"dayofweek\")[\"minutes_travelling\"].mean().plot.pie(labels=WEEK,\n",
    "    autopct='%.2f%%',\n",
    "    title=\"the mean minutes travelling for each day of the week\")\n",
    "plt.show()"
   ]
  },
  {
   "cell_type": "markdown",
   "metadata": {},
   "source": [
    "### Question 10"
   ]
  },
  {
   "cell_type": "markdown",
   "metadata": {},
   "source": [
    "#### function defined"
   ]
  },
  {
   "cell_type": "markdown",
   "metadata": {},
   "source": [
    "<head>function 'time_range_max(data_set)' return the max number of trips happen in any 60min in one day</head>\n",
    "- 'data_set' is the data table grouped by dayofmonth with duration<60 (minutes)"
   ]
  },
  {
   "cell_type": "code",
   "execution_count": 27,
   "metadata": {
    "ExecuteTime": {
     "end_time": "2018-04-09T01:44:44.242093Z",
     "start_time": "2018-04-09T01:44:44.221039Z"
    }
   },
   "outputs": [],
   "source": [
    "def time_range_max(data_set):\n",
    "#   max number of trips within 1h in 1day\n",
    "    max_count = 0\n",
    "    \n",
    "#   1 hour range for each pickup time\n",
    "    end_window = df()\n",
    "    end_window[\"max_trips_60min_day\"] = 0\n",
    "    \n",
    "#   calculate for number for each end_window\n",
    "    for i in np.arange(0, data_set.shape[0]):\n",
    "        start = data_set.iloc[i][\"pickup\"]\n",
    "        time_range = start + timedelta(hours=1)\n",
    "        \n",
    "        end_window.loc[i, \"max_trips_60min_day\"] = (((data_set[\"pickup\"]>=start) & (data_set[\"pickup\"]<time_range)) &\n",
    "                                                    ((data_set[\"dropoff\"]>=start) & (data_set[\"dropoff\"]<time_range))).sum()\n",
    "\n",
    "    return end_window[\"max_trips_60min_day\"].max()"
   ]
  },
  {
   "cell_type": "markdown",
   "metadata": {},
   "source": [
    "#### select trips start and end within 1day and duration<60"
   ]
  },
  {
   "cell_type": "code",
   "execution_count": 28,
   "metadata": {
    "ExecuteTime": {
     "end_time": "2018-04-09T01:44:44.457666Z",
     "start_time": "2018-04-09T01:44:44.245101Z"
    }
   },
   "outputs": [],
   "source": [
    "data_sameday = df()\n",
    "\n",
    "data_sameday[\"pickup\"] = data[(data[\"dayofmonth\"]==data[\"dropoff_datetime\"].dt.day) & data[\"duration\"]<=60][\"pickup_datetime\"]\n",
    "data_sameday[\"dropoff\"] = data[(data[\"dayofmonth\"]==data[\"dropoff_datetime\"].dt.day) & data[\"duration\"]<=60][\"dropoff_datetime\"]\n",
    "data_sameday[\"dayofmonth\"] = data[\"dayofmonth\"]\n",
    "data_sameday[\"dayofweek\"] = data_sameday[\"pickup\"].dt.weekday"
   ]
  },
  {
   "cell_type": "markdown",
   "metadata": {},
   "source": [
    "#### set up Dataframe daily"
   ]
  },
  {
   "cell_type": "markdown",
   "metadata": {},
   "source": [
    "create DataFrame 'daily' used to store \n",
    "- 'max number of trip within 1h for each day in January' (data need to be plotted)\n",
    "- 'day of week' (data needed for groupby when we plot)\n",
    "- 'day of month' (data needed for x-axis)"
   ]
  },
  {
   "cell_type": "code",
   "execution_count": 29,
   "metadata": {
    "ExecuteTime": {
     "end_time": "2018-04-09T01:44:44.494766Z",
     "start_time": "2018-04-09T01:44:44.458677Z"
    }
   },
   "outputs": [],
   "source": [
    "# 31 rows correspond to 31 days in Janruary\n",
    "daily = df(data=[0]*31, columns=[\"max_trips_60min_day\"])\n",
    "daily[\"dayofweek\"] = 0 # day of week is initially set to 0 for more --> 2.10.4(line 4)\n",
    "\n",
    "# let index be identical to day of month\n",
    "index = pd.Series([i for i in np.arange(1, 32)])\n",
    "daily.set_index(index, inplace=True)\n",
    "daily[\"dayofmonth\"] = daily.index"
   ]
  },
  {
   "cell_type": "markdown",
   "metadata": {},
   "source": [
    "#### code"
   ]
  },
  {
   "cell_type": "code",
   "execution_count": 30,
   "metadata": {
    "ExecuteTime": {
     "end_time": "2018-04-09T01:48:07.076161Z",
     "start_time": "2018-04-09T01:44:44.497774Z"
    }
   },
   "outputs": [],
   "source": [
    "# calculate \"max_trips_60min_day\" for each day in month\n",
    "for i, grouped in data_sameday.groupby(\"dayofmonth\"): \n",
    "    # could be simpler by set daily[\"dayofweek\"] =  [calendar.weekday(2016, 1, i) for i in np.arange(1, 32)] at 2.10.3(line 3)\n",
    "    daily.loc[i, [\"dayofweek\"]] = int(grouped[\"dayofweek\"].unique())\n",
    "    daily.loc[i, [\"max_trips_60min_day\"]] = time_range_max(grouped)"
   ]
  },
  {
   "cell_type": "markdown",
   "metadata": {},
   "source": [
    "#### output plot"
   ]
  },
  {
   "cell_type": "code",
   "execution_count": 31,
   "metadata": {
    "ExecuteTime": {
     "end_time": "2018-04-09T01:48:07.228495Z",
     "start_time": "2018-04-09T01:48:07.077061Z"
    }
   },
   "outputs": [
    {
     "data": {
      "image/png": "[encoded data removed]",
      "text/plain": [
       "<matplotlib.figure.Figure at 0x13637570>"
      ]
     },
     "metadata": {},
     "output_type": "display_data"
    }
   ],
   "source": [
    "ax = daily[daily[\"dayofweek\"]<5].plot(kind=\"scatter\", x=\"dayofmonth\", y=\"max_trips_60min_day\", label=\"Weekday\", color='r',\n",
    "    title=\"max_trips_60min_day for each day in January\", figsize=(6,5))\n",
    "daily[daily[\"dayofweek\"]>4].plot(kind=\"scatter\", x=\"dayofmonth\", y=\"max_trips_60min_day\", label=\"Weekend\", color='b', ax=ax)\n",
    "plt.show()"
   ]
  },
  {
   "cell_type": "markdown",
   "metadata": {},
   "source": [
    "## XuLin Yang 904904 COMP20007 assignment1 End"
   ]
  },
  {
   "cell_type": "markdown",
   "metadata": {},
   "source": [
    "- 'Data processing is fun'"
   ]
  },
  {
   "cell_type": "code",
   "execution_count": 32,
   "metadata": {
    "ExecuteTime": {
     "end_time": "2018-04-09T01:48:07.233476Z",
     "start_time": "2018-04-09T01:48:07.230468Z"
    }
   },
   "outputs": [],
   "source": [
    "# data"
   ]
  },
  {
   "cell_type": "code",
   "execution_count": 33,
   "metadata": {
    "ExecuteTime": {
     "end_time": "2018-04-09T01:48:07.319705Z",
     "start_time": "2018-04-09T01:48:07.236499Z"
    }
   },
   "outputs": [],
   "source": [
    "# trip"
   ]
  }
 ],
 "metadata": {
  "hide_input": false,
  "kernelspec": {
   "display_name": "Python 3",
   "language": "python",
   "name": "python3"
  },
  "language_info": {
   "codemirror_mode": {
    "name": "ipython",
    "version": 3
   },
   "file_extension": ".py",
   "mimetype": "text/x-python",
   "name": "python",
   "nbconvert_exporter": "python",
   "pygments_lexer": "ipython3",
   "version": "3.6.3"
  },
  "toc": {
   "nav_menu": {},
   "number_sections": true,
   "sideBar": true,
   "skip_h1_title": false,
   "title_cell": "Table of Contents",
   "title_sidebar": "Contents",
   "toc_cell": true,
   "toc_position": {},
   "toc_section_display": true,
   "toc_window_display": false
  }
 },
 "nbformat": 4,
 "nbformat_minor": 2
}
